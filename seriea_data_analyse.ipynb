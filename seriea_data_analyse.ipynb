{
 "cells": [
  {
   "cell_type": "markdown",
   "id": "6685f9fa",
   "metadata": {},
   "source": [
    "Endten finne ut hvilke lag som kommer til å vinne de ulike kampene, eller bare finne ut hvem som vinner ligaen og hvor alle ender opp\n"
   ]
  },
  {
   "cell_type": "code",
   "execution_count": 195,
   "id": "b313d1ac",
   "metadata": {},
   "outputs": [],
   "source": [
    "import pandas as pd\n",
    "\n",
    "# Rettet raw GitHub-URL\n",
    "url = \"https://raw.githubusercontent.com/Steffenulv/Footballanalyzer/main/serie_a_data_2021-2025.csv\"\n",
    "full_data = pd.read_csv(url)"
   ]
  },
  {
   "cell_type": "code",
   "execution_count": 196,
   "id": "4ca94b1d",
   "metadata": {},
   "outputs": [],
   "source": [
    "pd.set_option('display.max_columns', 500)\n",
    "pd.set_option('display.max_rows', 500)"
   ]
  },
  {
   "cell_type": "code",
   "execution_count": 197,
   "id": "765c5cc2",
   "metadata": {},
   "outputs": [
    {
     "name": "stdout",
     "output_type": "stream",
     "text": [
      "(100, 21)\n"
     ]
    },
    {
     "data": {
      "text/html": [
       "<div>\n",
       "<style scoped>\n",
       "    .dataframe tbody tr th:only-of-type {\n",
       "        vertical-align: middle;\n",
       "    }\n",
       "\n",
       "    .dataframe tbody tr th {\n",
       "        vertical-align: top;\n",
       "    }\n",
       "\n",
       "    .dataframe thead th {\n",
       "        text-align: right;\n",
       "    }\n",
       "</style>\n",
       "<table border=\"1\" class=\"dataframe\">\n",
       "  <thead>\n",
       "    <tr style=\"text-align: right;\">\n",
       "      <th></th>\n",
       "      <th>rk</th>\n",
       "      <th>squad</th>\n",
       "      <th>mp</th>\n",
       "      <th>w</th>\n",
       "      <th>d</th>\n",
       "      <th>l</th>\n",
       "      <th>gf</th>\n",
       "      <th>ga</th>\n",
       "      <th>gd</th>\n",
       "      <th>pts</th>\n",
       "      <th>pts/mp</th>\n",
       "      <th>xg</th>\n",
       "      <th>xga</th>\n",
       "      <th>xgd</th>\n",
       "      <th>xgd/90</th>\n",
       "      <th>attendance</th>\n",
       "      <th>top_team_scorer</th>\n",
       "      <th>goalkeeper</th>\n",
       "      <th>notes</th>\n",
       "      <th>sesonger</th>\n",
       "      <th>last_5</th>\n",
       "    </tr>\n",
       "  </thead>\n",
       "  <tbody>\n",
       "    <tr>\n",
       "      <th>0</th>\n",
       "      <td>1</td>\n",
       "      <td>Milan</td>\n",
       "      <td>38</td>\n",
       "      <td>26</td>\n",
       "      <td>8</td>\n",
       "      <td>4</td>\n",
       "      <td>69</td>\n",
       "      <td>31</td>\n",
       "      <td>38</td>\n",
       "      <td>86</td>\n",
       "      <td>2.26</td>\n",
       "      <td>59.7</td>\n",
       "      <td>35.9</td>\n",
       "      <td>23.8</td>\n",
       "      <td>0.63</td>\n",
       "      <td>44015</td>\n",
       "      <td>Olivier Giroud, Rafael Leão - 11</td>\n",
       "      <td>Mike Maignan</td>\n",
       "      <td>→ Champions League via league finish</td>\n",
       "      <td>2021</td>\n",
       "      <td>NaN</td>\n",
       "    </tr>\n",
       "    <tr>\n",
       "      <th>1</th>\n",
       "      <td>2</td>\n",
       "      <td>Inter</td>\n",
       "      <td>38</td>\n",
       "      <td>25</td>\n",
       "      <td>9</td>\n",
       "      <td>4</td>\n",
       "      <td>84</td>\n",
       "      <td>32</td>\n",
       "      <td>52</td>\n",
       "      <td>84</td>\n",
       "      <td>2.21</td>\n",
       "      <td>81.6</td>\n",
       "      <td>39.1</td>\n",
       "      <td>42.5</td>\n",
       "      <td>1.12</td>\n",
       "      <td>44473</td>\n",
       "      <td>Lautaro Martínez - 21</td>\n",
       "      <td>Samir Handanović</td>\n",
       "      <td>→ Champions League via league finish</td>\n",
       "      <td>2021</td>\n",
       "      <td>NaN</td>\n",
       "    </tr>\n",
       "    <tr>\n",
       "      <th>2</th>\n",
       "      <td>3</td>\n",
       "      <td>Napoli</td>\n",
       "      <td>38</td>\n",
       "      <td>24</td>\n",
       "      <td>7</td>\n",
       "      <td>7</td>\n",
       "      <td>74</td>\n",
       "      <td>31</td>\n",
       "      <td>43</td>\n",
       "      <td>79</td>\n",
       "      <td>2.08</td>\n",
       "      <td>57.8</td>\n",
       "      <td>32.5</td>\n",
       "      <td>25.3</td>\n",
       "      <td>0.67</td>\n",
       "      <td>28119</td>\n",
       "      <td>Victor Osimhen - 14</td>\n",
       "      <td>David Ospina</td>\n",
       "      <td>→ Champions League via league finish</td>\n",
       "      <td>2021</td>\n",
       "      <td>NaN</td>\n",
       "    </tr>\n",
       "    <tr>\n",
       "      <th>3</th>\n",
       "      <td>4</td>\n",
       "      <td>Juventus</td>\n",
       "      <td>38</td>\n",
       "      <td>20</td>\n",
       "      <td>10</td>\n",
       "      <td>8</td>\n",
       "      <td>57</td>\n",
       "      <td>37</td>\n",
       "      <td>20</td>\n",
       "      <td>70</td>\n",
       "      <td>1.84</td>\n",
       "      <td>51.4</td>\n",
       "      <td>38.1</td>\n",
       "      <td>13.4</td>\n",
       "      <td>0.35</td>\n",
       "      <td>22621</td>\n",
       "      <td>Paulo Dybala - 10</td>\n",
       "      <td>Wojciech Szczęsny</td>\n",
       "      <td>→ Champions League via league finish</td>\n",
       "      <td>2021</td>\n",
       "      <td>NaN</td>\n",
       "    </tr>\n",
       "    <tr>\n",
       "      <th>4</th>\n",
       "      <td>5</td>\n",
       "      <td>Lazio</td>\n",
       "      <td>38</td>\n",
       "      <td>18</td>\n",
       "      <td>10</td>\n",
       "      <td>10</td>\n",
       "      <td>77</td>\n",
       "      <td>58</td>\n",
       "      <td>19</td>\n",
       "      <td>64</td>\n",
       "      <td>1.68</td>\n",
       "      <td>55.3</td>\n",
       "      <td>47.7</td>\n",
       "      <td>7.6</td>\n",
       "      <td>0.20</td>\n",
       "      <td>23263</td>\n",
       "      <td>Ciro Immobile - 27</td>\n",
       "      <td>Thomas Strakosha</td>\n",
       "      <td>→ Europa League via league finish</td>\n",
       "      <td>2021</td>\n",
       "      <td>NaN</td>\n",
       "    </tr>\n",
       "    <tr>\n",
       "      <th>5</th>\n",
       "      <td>6</td>\n",
       "      <td>Roma</td>\n",
       "      <td>38</td>\n",
       "      <td>18</td>\n",
       "      <td>9</td>\n",
       "      <td>11</td>\n",
       "      <td>59</td>\n",
       "      <td>43</td>\n",
       "      <td>16</td>\n",
       "      <td>63</td>\n",
       "      <td>1.66</td>\n",
       "      <td>65.1</td>\n",
       "      <td>38.4</td>\n",
       "      <td>26.8</td>\n",
       "      <td>0.70</td>\n",
       "      <td>41929</td>\n",
       "      <td>Tammy Abraham - 17</td>\n",
       "      <td>Rui Patrício</td>\n",
       "      <td>→ Europa League via league finish</td>\n",
       "      <td>2021</td>\n",
       "      <td>NaN</td>\n",
       "    </tr>\n",
       "    <tr>\n",
       "      <th>6</th>\n",
       "      <td>7</td>\n",
       "      <td>Fiorentina</td>\n",
       "      <td>38</td>\n",
       "      <td>19</td>\n",
       "      <td>5</td>\n",
       "      <td>14</td>\n",
       "      <td>59</td>\n",
       "      <td>51</td>\n",
       "      <td>8</td>\n",
       "      <td>62</td>\n",
       "      <td>1.63</td>\n",
       "      <td>60.0</td>\n",
       "      <td>40.6</td>\n",
       "      <td>19.4</td>\n",
       "      <td>0.51</td>\n",
       "      <td>21107</td>\n",
       "      <td>Dušan Vlahović - 17</td>\n",
       "      <td>Pietro Terracciano</td>\n",
       "      <td>→ Europa Conference League via league finish</td>\n",
       "      <td>2021</td>\n",
       "      <td>NaN</td>\n",
       "    </tr>\n",
       "    <tr>\n",
       "      <th>7</th>\n",
       "      <td>8</td>\n",
       "      <td>Atalanta</td>\n",
       "      <td>38</td>\n",
       "      <td>16</td>\n",
       "      <td>11</td>\n",
       "      <td>11</td>\n",
       "      <td>65</td>\n",
       "      <td>48</td>\n",
       "      <td>17</td>\n",
       "      <td>59</td>\n",
       "      <td>1.55</td>\n",
       "      <td>62.4</td>\n",
       "      <td>45.3</td>\n",
       "      <td>17.2</td>\n",
       "      <td>0.45</td>\n",
       "      <td>10447</td>\n",
       "      <td>Mario Pašalić - 13</td>\n",
       "      <td>Juan Musso</td>\n",
       "      <td>NaN</td>\n",
       "      <td>2021</td>\n",
       "      <td>NaN</td>\n",
       "    </tr>\n",
       "    <tr>\n",
       "      <th>8</th>\n",
       "      <td>9</td>\n",
       "      <td>Hellas Verona</td>\n",
       "      <td>38</td>\n",
       "      <td>14</td>\n",
       "      <td>11</td>\n",
       "      <td>13</td>\n",
       "      <td>65</td>\n",
       "      <td>59</td>\n",
       "      <td>6</td>\n",
       "      <td>53</td>\n",
       "      <td>1.39</td>\n",
       "      <td>50.4</td>\n",
       "      <td>49.0</td>\n",
       "      <td>1.4</td>\n",
       "      <td>0.04</td>\n",
       "      <td>13894</td>\n",
       "      <td>Giovanni Simeone - 17</td>\n",
       "      <td>Lorenzo Montipò</td>\n",
       "      <td>NaN</td>\n",
       "      <td>2021</td>\n",
       "      <td>NaN</td>\n",
       "    </tr>\n",
       "    <tr>\n",
       "      <th>9</th>\n",
       "      <td>10</td>\n",
       "      <td>Torino</td>\n",
       "      <td>38</td>\n",
       "      <td>13</td>\n",
       "      <td>11</td>\n",
       "      <td>14</td>\n",
       "      <td>46</td>\n",
       "      <td>41</td>\n",
       "      <td>5</td>\n",
       "      <td>50</td>\n",
       "      <td>1.32</td>\n",
       "      <td>48.7</td>\n",
       "      <td>38.9</td>\n",
       "      <td>9.8</td>\n",
       "      <td>0.26</td>\n",
       "      <td>9846</td>\n",
       "      <td>Andrea Belotti - 8</td>\n",
       "      <td>Vanja Milinković-Savić</td>\n",
       "      <td>NaN</td>\n",
       "      <td>2021</td>\n",
       "      <td>NaN</td>\n",
       "    </tr>\n",
       "    <tr>\n",
       "      <th>10</th>\n",
       "      <td>11</td>\n",
       "      <td>Sassuolo</td>\n",
       "      <td>38</td>\n",
       "      <td>13</td>\n",
       "      <td>11</td>\n",
       "      <td>14</td>\n",
       "      <td>64</td>\n",
       "      <td>66</td>\n",
       "      <td>-2</td>\n",
       "      <td>50</td>\n",
       "      <td>1.32</td>\n",
       "      <td>55.7</td>\n",
       "      <td>66.4</td>\n",
       "      <td>-10.7</td>\n",
       "      <td>-0.28</td>\n",
       "      <td>8362</td>\n",
       "      <td>Gianluca Scamacca - 16</td>\n",
       "      <td>Andrea Consigli</td>\n",
       "      <td>NaN</td>\n",
       "      <td>2021</td>\n",
       "      <td>NaN</td>\n",
       "    </tr>\n",
       "    <tr>\n",
       "      <th>11</th>\n",
       "      <td>12</td>\n",
       "      <td>Udinese</td>\n",
       "      <td>38</td>\n",
       "      <td>11</td>\n",
       "      <td>14</td>\n",
       "      <td>13</td>\n",
       "      <td>61</td>\n",
       "      <td>58</td>\n",
       "      <td>3</td>\n",
       "      <td>47</td>\n",
       "      <td>1.24</td>\n",
       "      <td>51.3</td>\n",
       "      <td>52.4</td>\n",
       "      <td>-1.0</td>\n",
       "      <td>-0.03</td>\n",
       "      <td>12144</td>\n",
       "      <td>Gerard Deulofeu - 13</td>\n",
       "      <td>Marco Silvestri</td>\n",
       "      <td>NaN</td>\n",
       "      <td>2021</td>\n",
       "      <td>NaN</td>\n",
       "    </tr>\n",
       "    <tr>\n",
       "      <th>12</th>\n",
       "      <td>13</td>\n",
       "      <td>Bologna</td>\n",
       "      <td>38</td>\n",
       "      <td>12</td>\n",
       "      <td>10</td>\n",
       "      <td>16</td>\n",
       "      <td>44</td>\n",
       "      <td>55</td>\n",
       "      <td>-11</td>\n",
       "      <td>46</td>\n",
       "      <td>1.21</td>\n",
       "      <td>44.9</td>\n",
       "      <td>52.6</td>\n",
       "      <td>-7.7</td>\n",
       "      <td>-0.20</td>\n",
       "      <td>14158</td>\n",
       "      <td>Marko Arnautović - 14</td>\n",
       "      <td>Łukasz Skorupski</td>\n",
       "      <td>NaN</td>\n",
       "      <td>2021</td>\n",
       "      <td>NaN</td>\n",
       "    </tr>\n",
       "    <tr>\n",
       "      <th>13</th>\n",
       "      <td>14</td>\n",
       "      <td>Empoli</td>\n",
       "      <td>38</td>\n",
       "      <td>10</td>\n",
       "      <td>11</td>\n",
       "      <td>17</td>\n",
       "      <td>50</td>\n",
       "      <td>70</td>\n",
       "      <td>-20</td>\n",
       "      <td>41</td>\n",
       "      <td>1.08</td>\n",
       "      <td>44.9</td>\n",
       "      <td>66.0</td>\n",
       "      <td>-21.2</td>\n",
       "      <td>-0.56</td>\n",
       "      <td>6356</td>\n",
       "      <td>Andrea Pinamonti - 13</td>\n",
       "      <td>Guglielmo Vicario</td>\n",
       "      <td>NaN</td>\n",
       "      <td>2021</td>\n",
       "      <td>NaN</td>\n",
       "    </tr>\n",
       "    <tr>\n",
       "      <th>14</th>\n",
       "      <td>15</td>\n",
       "      <td>Sampdoria</td>\n",
       "      <td>38</td>\n",
       "      <td>10</td>\n",
       "      <td>6</td>\n",
       "      <td>22</td>\n",
       "      <td>46</td>\n",
       "      <td>63</td>\n",
       "      <td>-17</td>\n",
       "      <td>36</td>\n",
       "      <td>0.95</td>\n",
       "      <td>36.7</td>\n",
       "      <td>56.1</td>\n",
       "      <td>-19.3</td>\n",
       "      <td>-0.51</td>\n",
       "      <td>9417</td>\n",
       "      <td>Francesco Caputo - 11</td>\n",
       "      <td>Emil Audero</td>\n",
       "      <td>NaN</td>\n",
       "      <td>2021</td>\n",
       "      <td>NaN</td>\n",
       "    </tr>\n",
       "    <tr>\n",
       "      <th>15</th>\n",
       "      <td>16</td>\n",
       "      <td>Spezia</td>\n",
       "      <td>38</td>\n",
       "      <td>10</td>\n",
       "      <td>6</td>\n",
       "      <td>22</td>\n",
       "      <td>41</td>\n",
       "      <td>71</td>\n",
       "      <td>-30</td>\n",
       "      <td>36</td>\n",
       "      <td>0.95</td>\n",
       "      <td>40.1</td>\n",
       "      <td>64.4</td>\n",
       "      <td>-24.3</td>\n",
       "      <td>-0.64</td>\n",
       "      <td>6709</td>\n",
       "      <td>Daniele Verde - 8</td>\n",
       "      <td>Ivan Provedel</td>\n",
       "      <td>NaN</td>\n",
       "      <td>2021</td>\n",
       "      <td>NaN</td>\n",
       "    </tr>\n",
       "    <tr>\n",
       "      <th>16</th>\n",
       "      <td>17</td>\n",
       "      <td>Salernitana</td>\n",
       "      <td>38</td>\n",
       "      <td>7</td>\n",
       "      <td>10</td>\n",
       "      <td>21</td>\n",
       "      <td>33</td>\n",
       "      <td>78</td>\n",
       "      <td>-45</td>\n",
       "      <td>31</td>\n",
       "      <td>0.82</td>\n",
       "      <td>36.5</td>\n",
       "      <td>65.2</td>\n",
       "      <td>-28.7</td>\n",
       "      <td>-0.76</td>\n",
       "      <td>15073</td>\n",
       "      <td>Federico Bonazzoli - 10</td>\n",
       "      <td>Vid Belec</td>\n",
       "      <td>NaN</td>\n",
       "      <td>2021</td>\n",
       "      <td>NaN</td>\n",
       "    </tr>\n",
       "    <tr>\n",
       "      <th>17</th>\n",
       "      <td>18</td>\n",
       "      <td>Cagliari</td>\n",
       "      <td>38</td>\n",
       "      <td>6</td>\n",
       "      <td>12</td>\n",
       "      <td>20</td>\n",
       "      <td>34</td>\n",
       "      <td>68</td>\n",
       "      <td>-34</td>\n",
       "      <td>30</td>\n",
       "      <td>0.79</td>\n",
       "      <td>39.0</td>\n",
       "      <td>61.0</td>\n",
       "      <td>-21.9</td>\n",
       "      <td>-0.58</td>\n",
       "      <td>9718</td>\n",
       "      <td>João Pedro - 13</td>\n",
       "      <td>Alessio Cragno</td>\n",
       "      <td>Relegated</td>\n",
       "      <td>2021</td>\n",
       "      <td>NaN</td>\n",
       "    </tr>\n",
       "    <tr>\n",
       "      <th>18</th>\n",
       "      <td>19</td>\n",
       "      <td>Genoa</td>\n",
       "      <td>38</td>\n",
       "      <td>4</td>\n",
       "      <td>16</td>\n",
       "      <td>18</td>\n",
       "      <td>27</td>\n",
       "      <td>60</td>\n",
       "      <td>-33</td>\n",
       "      <td>28</td>\n",
       "      <td>0.74</td>\n",
       "      <td>37.2</td>\n",
       "      <td>54.1</td>\n",
       "      <td>-16.9</td>\n",
       "      <td>-0.44</td>\n",
       "      <td>12326</td>\n",
       "      <td>Mattia Destro - 9</td>\n",
       "      <td>Salvatore Sirigu</td>\n",
       "      <td>Relegated</td>\n",
       "      <td>2021</td>\n",
       "      <td>NaN</td>\n",
       "    </tr>\n",
       "    <tr>\n",
       "      <th>19</th>\n",
       "      <td>20</td>\n",
       "      <td>Venezia</td>\n",
       "      <td>38</td>\n",
       "      <td>6</td>\n",
       "      <td>9</td>\n",
       "      <td>23</td>\n",
       "      <td>34</td>\n",
       "      <td>69</td>\n",
       "      <td>-35</td>\n",
       "      <td>27</td>\n",
       "      <td>0.71</td>\n",
       "      <td>36.5</td>\n",
       "      <td>71.8</td>\n",
       "      <td>-35.3</td>\n",
       "      <td>-0.93</td>\n",
       "      <td>6648</td>\n",
       "      <td>Thomas Henry - 9</td>\n",
       "      <td>Niki Mäenpää</td>\n",
       "      <td>Relegated</td>\n",
       "      <td>2021</td>\n",
       "      <td>NaN</td>\n",
       "    </tr>\n",
       "  </tbody>\n",
       "</table>\n",
       "</div>"
      ],
      "text/plain": [
       "    rk          squad  mp   w   d   l  gf  ga  gd  pts  pts/mp    xg   xga  \\\n",
       "0    1          Milan  38  26   8   4  69  31  38   86    2.26  59.7  35.9   \n",
       "1    2          Inter  38  25   9   4  84  32  52   84    2.21  81.6  39.1   \n",
       "2    3         Napoli  38  24   7   7  74  31  43   79    2.08  57.8  32.5   \n",
       "3    4       Juventus  38  20  10   8  57  37  20   70    1.84  51.4  38.1   \n",
       "4    5          Lazio  38  18  10  10  77  58  19   64    1.68  55.3  47.7   \n",
       "5    6           Roma  38  18   9  11  59  43  16   63    1.66  65.1  38.4   \n",
       "6    7     Fiorentina  38  19   5  14  59  51   8   62    1.63  60.0  40.6   \n",
       "7    8       Atalanta  38  16  11  11  65  48  17   59    1.55  62.4  45.3   \n",
       "8    9  Hellas Verona  38  14  11  13  65  59   6   53    1.39  50.4  49.0   \n",
       "9   10         Torino  38  13  11  14  46  41   5   50    1.32  48.7  38.9   \n",
       "10  11       Sassuolo  38  13  11  14  64  66  -2   50    1.32  55.7  66.4   \n",
       "11  12        Udinese  38  11  14  13  61  58   3   47    1.24  51.3  52.4   \n",
       "12  13        Bologna  38  12  10  16  44  55 -11   46    1.21  44.9  52.6   \n",
       "13  14         Empoli  38  10  11  17  50  70 -20   41    1.08  44.9  66.0   \n",
       "14  15      Sampdoria  38  10   6  22  46  63 -17   36    0.95  36.7  56.1   \n",
       "15  16         Spezia  38  10   6  22  41  71 -30   36    0.95  40.1  64.4   \n",
       "16  17    Salernitana  38   7  10  21  33  78 -45   31    0.82  36.5  65.2   \n",
       "17  18       Cagliari  38   6  12  20  34  68 -34   30    0.79  39.0  61.0   \n",
       "18  19          Genoa  38   4  16  18  27  60 -33   28    0.74  37.2  54.1   \n",
       "19  20        Venezia  38   6   9  23  34  69 -35   27    0.71  36.5  71.8   \n",
       "\n",
       "     xgd  xgd/90  attendance                   top_team_scorer  \\\n",
       "0   23.8    0.63       44015  Olivier Giroud, Rafael Leão - 11   \n",
       "1   42.5    1.12       44473             Lautaro Martínez - 21   \n",
       "2   25.3    0.67       28119               Victor Osimhen - 14   \n",
       "3   13.4    0.35       22621                 Paulo Dybala - 10   \n",
       "4    7.6    0.20       23263                Ciro Immobile - 27   \n",
       "5   26.8    0.70       41929                Tammy Abraham - 17   \n",
       "6   19.4    0.51       21107               Dušan Vlahović - 17   \n",
       "7   17.2    0.45       10447                Mario Pašalić - 13   \n",
       "8    1.4    0.04       13894             Giovanni Simeone - 17   \n",
       "9    9.8    0.26        9846                Andrea Belotti - 8   \n",
       "10 -10.7   -0.28        8362            Gianluca Scamacca - 16   \n",
       "11  -1.0   -0.03       12144              Gerard Deulofeu - 13   \n",
       "12  -7.7   -0.20       14158             Marko Arnautović - 14   \n",
       "13 -21.2   -0.56        6356             Andrea Pinamonti - 13   \n",
       "14 -19.3   -0.51        9417             Francesco Caputo - 11   \n",
       "15 -24.3   -0.64        6709                 Daniele Verde - 8   \n",
       "16 -28.7   -0.76       15073           Federico Bonazzoli - 10   \n",
       "17 -21.9   -0.58        9718                   João Pedro - 13   \n",
       "18 -16.9   -0.44       12326                 Mattia Destro - 9   \n",
       "19 -35.3   -0.93        6648                  Thomas Henry - 9   \n",
       "\n",
       "                goalkeeper                                         notes  \\\n",
       "0             Mike Maignan          → Champions League via league finish   \n",
       "1         Samir Handanović          → Champions League via league finish   \n",
       "2             David Ospina          → Champions League via league finish   \n",
       "3        Wojciech Szczęsny          → Champions League via league finish   \n",
       "4         Thomas Strakosha             → Europa League via league finish   \n",
       "5             Rui Patrício             → Europa League via league finish   \n",
       "6       Pietro Terracciano  → Europa Conference League via league finish   \n",
       "7               Juan Musso                                           NaN   \n",
       "8          Lorenzo Montipò                                           NaN   \n",
       "9   Vanja Milinković-Savić                                           NaN   \n",
       "10         Andrea Consigli                                           NaN   \n",
       "11         Marco Silvestri                                           NaN   \n",
       "12        Łukasz Skorupski                                           NaN   \n",
       "13       Guglielmo Vicario                                           NaN   \n",
       "14             Emil Audero                                           NaN   \n",
       "15           Ivan Provedel                                           NaN   \n",
       "16               Vid Belec                                           NaN   \n",
       "17          Alessio Cragno                                     Relegated   \n",
       "18        Salvatore Sirigu                                     Relegated   \n",
       "19            Niki Mäenpää                                     Relegated   \n",
       "\n",
       "    sesonger last_5  \n",
       "0       2021    NaN  \n",
       "1       2021    NaN  \n",
       "2       2021    NaN  \n",
       "3       2021    NaN  \n",
       "4       2021    NaN  \n",
       "5       2021    NaN  \n",
       "6       2021    NaN  \n",
       "7       2021    NaN  \n",
       "8       2021    NaN  \n",
       "9       2021    NaN  \n",
       "10      2021    NaN  \n",
       "11      2021    NaN  \n",
       "12      2021    NaN  \n",
       "13      2021    NaN  \n",
       "14      2021    NaN  \n",
       "15      2021    NaN  \n",
       "16      2021    NaN  \n",
       "17      2021    NaN  \n",
       "18      2021    NaN  \n",
       "19      2021    NaN  "
      ]
     },
     "execution_count": 197,
     "metadata": {},
     "output_type": "execute_result"
    }
   ],
   "source": [
    "\n",
    "print(full_data.shape)\n",
    "full_data.head(20)"
   ]
  },
  {
   "cell_type": "markdown",
   "id": "4d6cba97",
   "metadata": {},
   "source": [
    "## Data utforsking \n",
    "\n"
   ]
  },
  {
   "cell_type": "code",
   "execution_count": 198,
   "id": "652ccd3b",
   "metadata": {},
   "outputs": [
    {
     "data": {
      "text/plain": [
       "squad\n",
       "Milan            5\n",
       "Napoli           5\n",
       "Juventus         5\n",
       "Lazio            5\n",
       "Roma             5\n",
       "Fiorentina       5\n",
       "Atalanta         5\n",
       "Hellas Verona    5\n",
       "Torino           5\n",
       "Udinese          5\n",
       "Bologna          5\n",
       "Inter            5\n",
       "Cagliari         4\n",
       "Lecce            4\n",
       "Genoa            4\n",
       "Empoli           4\n",
       "Sassuolo         4\n",
       "Salernitana      3\n",
       "Monza            3\n",
       "Spezia           2\n",
       "Sampdoria        2\n",
       "Venezia          2\n",
       "Cremonese        2\n",
       "Como             2\n",
       "Parma            2\n",
       "Frosinone        1\n",
       "Pisa             1\n",
       "Name: count, dtype: int64"
      ]
     },
     "execution_count": 198,
     "metadata": {},
     "output_type": "execute_result"
    }
   ],
   "source": [
    "full_data['squad'].value_counts()"
   ]
  },
  {
   "cell_type": "code",
   "execution_count": 199,
   "id": "c42e0f23",
   "metadata": {},
   "outputs": [
    {
     "data": {
      "text/plain": [
       "rk  squad   \n",
       "1   Napoli      3\n",
       "    Inter       1\n",
       "    Milan       1\n",
       "2   Inter       2\n",
       "    Lazio       1\n",
       "    Milan       1\n",
       "    Roma        1\n",
       "3   Atalanta    1\n",
       "    Inter       1\n",
       "    Juventus    1\n",
       "Name: count, dtype: int64"
      ]
     },
     "execution_count": 199,
     "metadata": {},
     "output_type": "execute_result"
    }
   ],
   "source": [
    "full_data['squad'].groupby(full_data['rk']).value_counts().head(10)"
   ]
  },
  {
   "cell_type": "code",
   "execution_count": 200,
   "id": "d05bd633",
   "metadata": {},
   "outputs": [
    {
     "data": {
      "application/vnd.plotly.v1+json": {
       "config": {
        "plotlyServerURL": "https://plot.ly"
       },
       "data": [
        {
         "alignmentgroup": "True",
         "hovertemplate": "Lag=%{x}<br>Antall ganger=%{y}<br>Plassering=%{marker.color}<extra></extra>",
         "legendgroup": "",
         "marker": {
          "color": {
           "bdata": "AQEBAgICAgMDAwMD",
           "dtype": "i1"
          },
          "coloraxis": "coloraxis",
          "pattern": {
           "shape": ""
          }
         },
         "name": "",
         "offsetgroup": "",
         "orientation": "v",
         "showlegend": false,
         "textposition": "auto",
         "type": "bar",
         "x": [
          "Napoli",
          "Inter",
          "Milan",
          "Inter",
          "Lazio",
          "Milan",
          "Roma",
          "Atalanta",
          "Inter",
          "Juventus",
          "Milan",
          "Napoli"
         ],
         "xaxis": "x",
         "y": {
          "bdata": "AwEBAgEBAQEBAQEB",
          "dtype": "i1"
         },
         "yaxis": "y"
        }
       ],
       "layout": {
        "barmode": "group",
        "coloraxis": {
         "colorbar": {
          "title": {
           "text": "Plassering"
          }
         },
         "colorscale": [
          [
           0,
           "#0d0887"
          ],
          [
           0.1111111111111111,
           "#46039f"
          ],
          [
           0.2222222222222222,
           "#7201a8"
          ],
          [
           0.3333333333333333,
           "#9c179e"
          ],
          [
           0.4444444444444444,
           "#bd3786"
          ],
          [
           0.5555555555555556,
           "#d8576b"
          ],
          [
           0.6666666666666666,
           "#ed7953"
          ],
          [
           0.7777777777777778,
           "#fb9f3a"
          ],
          [
           0.8888888888888888,
           "#fdca26"
          ],
          [
           1,
           "#f0f921"
          ]
         ]
        },
        "legend": {
         "tracegroupgap": 0
        },
        "template": {
         "data": {
          "bar": [
           {
            "error_x": {
             "color": "#2a3f5f"
            },
            "error_y": {
             "color": "#2a3f5f"
            },
            "marker": {
             "line": {
              "color": "#E5ECF6",
              "width": 0.5
             },
             "pattern": {
              "fillmode": "overlay",
              "size": 10,
              "solidity": 0.2
             }
            },
            "type": "bar"
           }
          ],
          "barpolar": [
           {
            "marker": {
             "line": {
              "color": "#E5ECF6",
              "width": 0.5
             },
             "pattern": {
              "fillmode": "overlay",
              "size": 10,
              "solidity": 0.2
             }
            },
            "type": "barpolar"
           }
          ],
          "carpet": [
           {
            "aaxis": {
             "endlinecolor": "#2a3f5f",
             "gridcolor": "white",
             "linecolor": "white",
             "minorgridcolor": "white",
             "startlinecolor": "#2a3f5f"
            },
            "baxis": {
             "endlinecolor": "#2a3f5f",
             "gridcolor": "white",
             "linecolor": "white",
             "minorgridcolor": "white",
             "startlinecolor": "#2a3f5f"
            },
            "type": "carpet"
           }
          ],
          "choropleth": [
           {
            "colorbar": {
             "outlinewidth": 0,
             "ticks": ""
            },
            "type": "choropleth"
           }
          ],
          "contour": [
           {
            "colorbar": {
             "outlinewidth": 0,
             "ticks": ""
            },
            "colorscale": [
             [
              0,
              "#0d0887"
             ],
             [
              0.1111111111111111,
              "#46039f"
             ],
             [
              0.2222222222222222,
              "#7201a8"
             ],
             [
              0.3333333333333333,
              "#9c179e"
             ],
             [
              0.4444444444444444,
              "#bd3786"
             ],
             [
              0.5555555555555556,
              "#d8576b"
             ],
             [
              0.6666666666666666,
              "#ed7953"
             ],
             [
              0.7777777777777778,
              "#fb9f3a"
             ],
             [
              0.8888888888888888,
              "#fdca26"
             ],
             [
              1,
              "#f0f921"
             ]
            ],
            "type": "contour"
           }
          ],
          "contourcarpet": [
           {
            "colorbar": {
             "outlinewidth": 0,
             "ticks": ""
            },
            "type": "contourcarpet"
           }
          ],
          "heatmap": [
           {
            "colorbar": {
             "outlinewidth": 0,
             "ticks": ""
            },
            "colorscale": [
             [
              0,
              "#0d0887"
             ],
             [
              0.1111111111111111,
              "#46039f"
             ],
             [
              0.2222222222222222,
              "#7201a8"
             ],
             [
              0.3333333333333333,
              "#9c179e"
             ],
             [
              0.4444444444444444,
              "#bd3786"
             ],
             [
              0.5555555555555556,
              "#d8576b"
             ],
             [
              0.6666666666666666,
              "#ed7953"
             ],
             [
              0.7777777777777778,
              "#fb9f3a"
             ],
             [
              0.8888888888888888,
              "#fdca26"
             ],
             [
              1,
              "#f0f921"
             ]
            ],
            "type": "heatmap"
           }
          ],
          "histogram": [
           {
            "marker": {
             "pattern": {
              "fillmode": "overlay",
              "size": 10,
              "solidity": 0.2
             }
            },
            "type": "histogram"
           }
          ],
          "histogram2d": [
           {
            "colorbar": {
             "outlinewidth": 0,
             "ticks": ""
            },
            "colorscale": [
             [
              0,
              "#0d0887"
             ],
             [
              0.1111111111111111,
              "#46039f"
             ],
             [
              0.2222222222222222,
              "#7201a8"
             ],
             [
              0.3333333333333333,
              "#9c179e"
             ],
             [
              0.4444444444444444,
              "#bd3786"
             ],
             [
              0.5555555555555556,
              "#d8576b"
             ],
             [
              0.6666666666666666,
              "#ed7953"
             ],
             [
              0.7777777777777778,
              "#fb9f3a"
             ],
             [
              0.8888888888888888,
              "#fdca26"
             ],
             [
              1,
              "#f0f921"
             ]
            ],
            "type": "histogram2d"
           }
          ],
          "histogram2dcontour": [
           {
            "colorbar": {
             "outlinewidth": 0,
             "ticks": ""
            },
            "colorscale": [
             [
              0,
              "#0d0887"
             ],
             [
              0.1111111111111111,
              "#46039f"
             ],
             [
              0.2222222222222222,
              "#7201a8"
             ],
             [
              0.3333333333333333,
              "#9c179e"
             ],
             [
              0.4444444444444444,
              "#bd3786"
             ],
             [
              0.5555555555555556,
              "#d8576b"
             ],
             [
              0.6666666666666666,
              "#ed7953"
             ],
             [
              0.7777777777777778,
              "#fb9f3a"
             ],
             [
              0.8888888888888888,
              "#fdca26"
             ],
             [
              1,
              "#f0f921"
             ]
            ],
            "type": "histogram2dcontour"
           }
          ],
          "mesh3d": [
           {
            "colorbar": {
             "outlinewidth": 0,
             "ticks": ""
            },
            "type": "mesh3d"
           }
          ],
          "parcoords": [
           {
            "line": {
             "colorbar": {
              "outlinewidth": 0,
              "ticks": ""
             }
            },
            "type": "parcoords"
           }
          ],
          "pie": [
           {
            "automargin": true,
            "type": "pie"
           }
          ],
          "scatter": [
           {
            "fillpattern": {
             "fillmode": "overlay",
             "size": 10,
             "solidity": 0.2
            },
            "type": "scatter"
           }
          ],
          "scatter3d": [
           {
            "line": {
             "colorbar": {
              "outlinewidth": 0,
              "ticks": ""
             }
            },
            "marker": {
             "colorbar": {
              "outlinewidth": 0,
              "ticks": ""
             }
            },
            "type": "scatter3d"
           }
          ],
          "scattercarpet": [
           {
            "marker": {
             "colorbar": {
              "outlinewidth": 0,
              "ticks": ""
             }
            },
            "type": "scattercarpet"
           }
          ],
          "scattergeo": [
           {
            "marker": {
             "colorbar": {
              "outlinewidth": 0,
              "ticks": ""
             }
            },
            "type": "scattergeo"
           }
          ],
          "scattergl": [
           {
            "marker": {
             "colorbar": {
              "outlinewidth": 0,
              "ticks": ""
             }
            },
            "type": "scattergl"
           }
          ],
          "scattermap": [
           {
            "marker": {
             "colorbar": {
              "outlinewidth": 0,
              "ticks": ""
             }
            },
            "type": "scattermap"
           }
          ],
          "scattermapbox": [
           {
            "marker": {
             "colorbar": {
              "outlinewidth": 0,
              "ticks": ""
             }
            },
            "type": "scattermapbox"
           }
          ],
          "scatterpolar": [
           {
            "marker": {
             "colorbar": {
              "outlinewidth": 0,
              "ticks": ""
             }
            },
            "type": "scatterpolar"
           }
          ],
          "scatterpolargl": [
           {
            "marker": {
             "colorbar": {
              "outlinewidth": 0,
              "ticks": ""
             }
            },
            "type": "scatterpolargl"
           }
          ],
          "scatterternary": [
           {
            "marker": {
             "colorbar": {
              "outlinewidth": 0,
              "ticks": ""
             }
            },
            "type": "scatterternary"
           }
          ],
          "surface": [
           {
            "colorbar": {
             "outlinewidth": 0,
             "ticks": ""
            },
            "colorscale": [
             [
              0,
              "#0d0887"
             ],
             [
              0.1111111111111111,
              "#46039f"
             ],
             [
              0.2222222222222222,
              "#7201a8"
             ],
             [
              0.3333333333333333,
              "#9c179e"
             ],
             [
              0.4444444444444444,
              "#bd3786"
             ],
             [
              0.5555555555555556,
              "#d8576b"
             ],
             [
              0.6666666666666666,
              "#ed7953"
             ],
             [
              0.7777777777777778,
              "#fb9f3a"
             ],
             [
              0.8888888888888888,
              "#fdca26"
             ],
             [
              1,
              "#f0f921"
             ]
            ],
            "type": "surface"
           }
          ],
          "table": [
           {
            "cells": {
             "fill": {
              "color": "#EBF0F8"
             },
             "line": {
              "color": "white"
             }
            },
            "header": {
             "fill": {
              "color": "#C8D4E3"
             },
             "line": {
              "color": "white"
             }
            },
            "type": "table"
           }
          ]
         },
         "layout": {
          "annotationdefaults": {
           "arrowcolor": "#2a3f5f",
           "arrowhead": 0,
           "arrowwidth": 1
          },
          "autotypenumbers": "strict",
          "coloraxis": {
           "colorbar": {
            "outlinewidth": 0,
            "ticks": ""
           }
          },
          "colorscale": {
           "diverging": [
            [
             0,
             "#8e0152"
            ],
            [
             0.1,
             "#c51b7d"
            ],
            [
             0.2,
             "#de77ae"
            ],
            [
             0.3,
             "#f1b6da"
            ],
            [
             0.4,
             "#fde0ef"
            ],
            [
             0.5,
             "#f7f7f7"
            ],
            [
             0.6,
             "#e6f5d0"
            ],
            [
             0.7,
             "#b8e186"
            ],
            [
             0.8,
             "#7fbc41"
            ],
            [
             0.9,
             "#4d9221"
            ],
            [
             1,
             "#276419"
            ]
           ],
           "sequential": [
            [
             0,
             "#0d0887"
            ],
            [
             0.1111111111111111,
             "#46039f"
            ],
            [
             0.2222222222222222,
             "#7201a8"
            ],
            [
             0.3333333333333333,
             "#9c179e"
            ],
            [
             0.4444444444444444,
             "#bd3786"
            ],
            [
             0.5555555555555556,
             "#d8576b"
            ],
            [
             0.6666666666666666,
             "#ed7953"
            ],
            [
             0.7777777777777778,
             "#fb9f3a"
            ],
            [
             0.8888888888888888,
             "#fdca26"
            ],
            [
             1,
             "#f0f921"
            ]
           ],
           "sequentialminus": [
            [
             0,
             "#0d0887"
            ],
            [
             0.1111111111111111,
             "#46039f"
            ],
            [
             0.2222222222222222,
             "#7201a8"
            ],
            [
             0.3333333333333333,
             "#9c179e"
            ],
            [
             0.4444444444444444,
             "#bd3786"
            ],
            [
             0.5555555555555556,
             "#d8576b"
            ],
            [
             0.6666666666666666,
             "#ed7953"
            ],
            [
             0.7777777777777778,
             "#fb9f3a"
            ],
            [
             0.8888888888888888,
             "#fdca26"
            ],
            [
             1,
             "#f0f921"
            ]
           ]
          },
          "colorway": [
           "#636efa",
           "#EF553B",
           "#00cc96",
           "#ab63fa",
           "#FFA15A",
           "#19d3f3",
           "#FF6692",
           "#B6E880",
           "#FF97FF",
           "#FECB52"
          ],
          "font": {
           "color": "#2a3f5f"
          },
          "geo": {
           "bgcolor": "white",
           "lakecolor": "white",
           "landcolor": "#E5ECF6",
           "showlakes": true,
           "showland": true,
           "subunitcolor": "white"
          },
          "hoverlabel": {
           "align": "left"
          },
          "hovermode": "closest",
          "mapbox": {
           "style": "light"
          },
          "paper_bgcolor": "white",
          "plot_bgcolor": "#E5ECF6",
          "polar": {
           "angularaxis": {
            "gridcolor": "white",
            "linecolor": "white",
            "ticks": ""
           },
           "bgcolor": "#E5ECF6",
           "radialaxis": {
            "gridcolor": "white",
            "linecolor": "white",
            "ticks": ""
           }
          },
          "scene": {
           "xaxis": {
            "backgroundcolor": "#E5ECF6",
            "gridcolor": "white",
            "gridwidth": 2,
            "linecolor": "white",
            "showbackground": true,
            "ticks": "",
            "zerolinecolor": "white"
           },
           "yaxis": {
            "backgroundcolor": "#E5ECF6",
            "gridcolor": "white",
            "gridwidth": 2,
            "linecolor": "white",
            "showbackground": true,
            "ticks": "",
            "zerolinecolor": "white"
           },
           "zaxis": {
            "backgroundcolor": "#E5ECF6",
            "gridcolor": "white",
            "gridwidth": 2,
            "linecolor": "white",
            "showbackground": true,
            "ticks": "",
            "zerolinecolor": "white"
           }
          },
          "shapedefaults": {
           "line": {
            "color": "#2a3f5f"
           }
          },
          "ternary": {
           "aaxis": {
            "gridcolor": "white",
            "linecolor": "white",
            "ticks": ""
           },
           "baxis": {
            "gridcolor": "white",
            "linecolor": "white",
            "ticks": ""
           },
           "bgcolor": "#E5ECF6",
           "caxis": {
            "gridcolor": "white",
            "linecolor": "white",
            "ticks": ""
           }
          },
          "title": {
           "x": 0.05
          },
          "xaxis": {
           "automargin": true,
           "gridcolor": "white",
           "linecolor": "white",
           "ticks": "",
           "title": {
            "standoff": 15
           },
           "zerolinecolor": "white",
           "zerolinewidth": 2
          },
          "yaxis": {
           "automargin": true,
           "gridcolor": "white",
           "linecolor": "white",
           "ticks": "",
           "title": {
            "standoff": 15
           },
           "zerolinecolor": "white",
           "zerolinewidth": 2
          }
         }
        },
        "title": {
         "text": "Antall ganger lag har endt på 1., 2. eller 3."
        },
        "xaxis": {
         "anchor": "y",
         "categoryorder": "total descending",
         "domain": [
          0,
          1
         ],
         "title": {
          "text": "Lag"
         }
        },
        "yaxis": {
         "anchor": "x",
         "domain": [
          0,
          1
         ],
         "title": {
          "text": "Antall ganger"
         }
        }
       }
      }
     },
     "metadata": {},
     "output_type": "display_data"
    }
   ],
   "source": [
    "import plotly.express as px\n",
    "\n",
    "rankings = full_data['squad'].groupby(full_data['rk']).value_counts().reset_index(name='counts')\n",
    "\n",
    "rankings = rankings[rankings['rk'].isin([1,2,3])]\n",
    "\n",
    "figur = px.bar(rankings, x='squad', y='counts', color='rk', barmode='group', title='Antall ganger lag har endt på 1., 2. eller 3.', \n",
    "                labels={'squad': 'Lag', 'counts': 'Antall ganger', 'rk': 'Plassering'}) \n",
    "\n",
    "figur.update_layout(xaxis = {'categoryorder':'total descending'})\n",
    "figur.show()"
   ]
  },
  {
   "cell_type": "code",
   "execution_count": 201,
   "id": "6e7c081f",
   "metadata": {},
   "outputs": [
    {
     "data": {
      "text/html": [
       "<div>\n",
       "<style scoped>\n",
       "    .dataframe tbody tr th:only-of-type {\n",
       "        vertical-align: middle;\n",
       "    }\n",
       "\n",
       "    .dataframe tbody tr th {\n",
       "        vertical-align: top;\n",
       "    }\n",
       "\n",
       "    .dataframe thead th {\n",
       "        text-align: right;\n",
       "    }\n",
       "</style>\n",
       "<table border=\"1\" class=\"dataframe\">\n",
       "  <thead>\n",
       "    <tr style=\"text-align: right;\">\n",
       "      <th></th>\n",
       "      <th>rk</th>\n",
       "      <th>mp</th>\n",
       "      <th>w</th>\n",
       "      <th>d</th>\n",
       "      <th>l</th>\n",
       "      <th>gf</th>\n",
       "      <th>ga</th>\n",
       "      <th>gd</th>\n",
       "      <th>pts</th>\n",
       "      <th>pts/mp</th>\n",
       "      <th>xg</th>\n",
       "      <th>xga</th>\n",
       "      <th>xgd</th>\n",
       "      <th>xgd/90</th>\n",
       "      <th>attendance</th>\n",
       "      <th>sesonger</th>\n",
       "    </tr>\n",
       "  </thead>\n",
       "  <tbody>\n",
       "    <tr>\n",
       "      <th>count</th>\n",
       "      <td>100.000000</td>\n",
       "      <td>100.000000</td>\n",
       "      <td>100.000000</td>\n",
       "      <td>100.000000</td>\n",
       "      <td>100.000000</td>\n",
       "      <td>100.000000</td>\n",
       "      <td>100.000000</td>\n",
       "      <td>100.000000</td>\n",
       "      <td>100.000000</td>\n",
       "      <td>100.000000</td>\n",
       "      <td>100.000000</td>\n",
       "      <td>100.000000</td>\n",
       "      <td>100.00000</td>\n",
       "      <td>100.000000</td>\n",
       "      <td>100.000000</td>\n",
       "      <td>100.000000</td>\n",
       "    </tr>\n",
       "    <tr>\n",
       "      <th>mean</th>\n",
       "      <td>10.500000</td>\n",
       "      <td>32.000000</td>\n",
       "      <td>11.540000</td>\n",
       "      <td>8.920000</td>\n",
       "      <td>11.540000</td>\n",
       "      <td>42.100000</td>\n",
       "      <td>42.100000</td>\n",
       "      <td>0.000000</td>\n",
       "      <td>43.440000</td>\n",
       "      <td>1.352900</td>\n",
       "      <td>40.264000</td>\n",
       "      <td>40.271000</td>\n",
       "      <td>0.00100</td>\n",
       "      <td>0.000100</td>\n",
       "      <td>28008.800000</td>\n",
       "      <td>2023.000000</td>\n",
       "    </tr>\n",
       "    <tr>\n",
       "      <th>std</th>\n",
       "      <td>5.795331</td>\n",
       "      <td>12.060454</td>\n",
       "      <td>7.392899</td>\n",
       "      <td>4.076739</td>\n",
       "      <td>6.797831</td>\n",
       "      <td>21.619529</td>\n",
       "      <td>20.445789</td>\n",
       "      <td>23.195262</td>\n",
       "      <td>23.234562</td>\n",
       "      <td>0.496359</td>\n",
       "      <td>18.457565</td>\n",
       "      <td>18.134767</td>\n",
       "      <td>17.90373</td>\n",
       "      <td>0.516579</td>\n",
       "      <td>18691.502842</td>\n",
       "      <td>1.421338</td>\n",
       "    </tr>\n",
       "    <tr>\n",
       "      <th>min</th>\n",
       "      <td>1.000000</td>\n",
       "      <td>8.000000</td>\n",
       "      <td>0.000000</td>\n",
       "      <td>0.000000</td>\n",
       "      <td>0.000000</td>\n",
       "      <td>3.000000</td>\n",
       "      <td>3.000000</td>\n",
       "      <td>-49.000000</td>\n",
       "      <td>3.000000</td>\n",
       "      <td>0.380000</td>\n",
       "      <td>5.500000</td>\n",
       "      <td>6.800000</td>\n",
       "      <td>-44.10000</td>\n",
       "      <td>-1.160000</td>\n",
       "      <td>6356.000000</td>\n",
       "      <td>2021.000000</td>\n",
       "    </tr>\n",
       "    <tr>\n",
       "      <th>25%</th>\n",
       "      <td>5.750000</td>\n",
       "      <td>38.000000</td>\n",
       "      <td>6.000000</td>\n",
       "      <td>6.000000</td>\n",
       "      <td>4.750000</td>\n",
       "      <td>30.500000</td>\n",
       "      <td>31.000000</td>\n",
       "      <td>-14.250000</td>\n",
       "      <td>27.750000</td>\n",
       "      <td>0.950000</td>\n",
       "      <td>34.475000</td>\n",
       "      <td>32.450000</td>\n",
       "      <td>-12.77500</td>\n",
       "      <td>-0.425000</td>\n",
       "      <td>13902.250000</td>\n",
       "      <td>2022.000000</td>\n",
       "    </tr>\n",
       "    <tr>\n",
       "      <th>50%</th>\n",
       "      <td>10.500000</td>\n",
       "      <td>38.000000</td>\n",
       "      <td>10.000000</td>\n",
       "      <td>9.000000</td>\n",
       "      <td>12.000000</td>\n",
       "      <td>43.500000</td>\n",
       "      <td>46.000000</td>\n",
       "      <td>-0.500000</td>\n",
       "      <td>43.500000</td>\n",
       "      <td>1.375000</td>\n",
       "      <td>42.250000</td>\n",
       "      <td>41.900000</td>\n",
       "      <td>0.55000</td>\n",
       "      <td>0.025000</td>\n",
       "      <td>21862.500000</td>\n",
       "      <td>2023.000000</td>\n",
       "    </tr>\n",
       "    <tr>\n",
       "      <th>75%</th>\n",
       "      <td>15.250000</td>\n",
       "      <td>38.000000</td>\n",
       "      <td>18.000000</td>\n",
       "      <td>12.000000</td>\n",
       "      <td>17.000000</td>\n",
       "      <td>59.000000</td>\n",
       "      <td>58.000000</td>\n",
       "      <td>16.250000</td>\n",
       "      <td>63.000000</td>\n",
       "      <td>1.687500</td>\n",
       "      <td>52.925000</td>\n",
       "      <td>53.000000</td>\n",
       "      <td>12.22500</td>\n",
       "      <td>0.432500</td>\n",
       "      <td>38675.250000</td>\n",
       "      <td>2024.000000</td>\n",
       "    </tr>\n",
       "    <tr>\n",
       "      <th>max</th>\n",
       "      <td>20.000000</td>\n",
       "      <td>38.000000</td>\n",
       "      <td>29.000000</td>\n",
       "      <td>19.000000</td>\n",
       "      <td>26.000000</td>\n",
       "      <td>89.000000</td>\n",
       "      <td>81.000000</td>\n",
       "      <td>67.000000</td>\n",
       "      <td>94.000000</td>\n",
       "      <td>2.470000</td>\n",
       "      <td>81.600000</td>\n",
       "      <td>74.400000</td>\n",
       "      <td>47.10000</td>\n",
       "      <td>1.240000</td>\n",
       "      <td>72838.000000</td>\n",
       "      <td>2025.000000</td>\n",
       "    </tr>\n",
       "  </tbody>\n",
       "</table>\n",
       "</div>"
      ],
      "text/plain": [
       "               rk          mp           w           d           l          gf  \\\n",
       "count  100.000000  100.000000  100.000000  100.000000  100.000000  100.000000   \n",
       "mean    10.500000   32.000000   11.540000    8.920000   11.540000   42.100000   \n",
       "std      5.795331   12.060454    7.392899    4.076739    6.797831   21.619529   \n",
       "min      1.000000    8.000000    0.000000    0.000000    0.000000    3.000000   \n",
       "25%      5.750000   38.000000    6.000000    6.000000    4.750000   30.500000   \n",
       "50%     10.500000   38.000000   10.000000    9.000000   12.000000   43.500000   \n",
       "75%     15.250000   38.000000   18.000000   12.000000   17.000000   59.000000   \n",
       "max     20.000000   38.000000   29.000000   19.000000   26.000000   89.000000   \n",
       "\n",
       "               ga          gd         pts      pts/mp          xg         xga  \\\n",
       "count  100.000000  100.000000  100.000000  100.000000  100.000000  100.000000   \n",
       "mean    42.100000    0.000000   43.440000    1.352900   40.264000   40.271000   \n",
       "std     20.445789   23.195262   23.234562    0.496359   18.457565   18.134767   \n",
       "min      3.000000  -49.000000    3.000000    0.380000    5.500000    6.800000   \n",
       "25%     31.000000  -14.250000   27.750000    0.950000   34.475000   32.450000   \n",
       "50%     46.000000   -0.500000   43.500000    1.375000   42.250000   41.900000   \n",
       "75%     58.000000   16.250000   63.000000    1.687500   52.925000   53.000000   \n",
       "max     81.000000   67.000000   94.000000    2.470000   81.600000   74.400000   \n",
       "\n",
       "             xgd      xgd/90    attendance     sesonger  \n",
       "count  100.00000  100.000000    100.000000   100.000000  \n",
       "mean     0.00100    0.000100  28008.800000  2023.000000  \n",
       "std     17.90373    0.516579  18691.502842     1.421338  \n",
       "min    -44.10000   -1.160000   6356.000000  2021.000000  \n",
       "25%    -12.77500   -0.425000  13902.250000  2022.000000  \n",
       "50%      0.55000    0.025000  21862.500000  2023.000000  \n",
       "75%     12.22500    0.432500  38675.250000  2024.000000  \n",
       "max     47.10000    1.240000  72838.000000  2025.000000  "
      ]
     },
     "execution_count": 201,
     "metadata": {},
     "output_type": "execute_result"
    }
   ],
   "source": [
    "full_data.describe()"
   ]
  },
  {
   "cell_type": "code",
   "execution_count": 202,
   "id": "e452e0c4",
   "metadata": {},
   "outputs": [
    {
     "name": "stdout",
     "output_type": "stream",
     "text": [
      "    sesonger   squad  pts  pts/mp  gd\n",
      "0       2021   Milan   86    2.26  38\n",
      "20      2022  Napoli   90    2.37  49\n",
      "40      2023   Inter   94    2.47  67\n",
      "60      2024  Napoli   82    2.16  32\n",
      "80      2025  Napoli   18    2.25   7\n"
     ]
    }
   ],
   "source": [
    "vinnende_lag = full_data[full_data['rk'] == 1][[\"sesonger\", \"squad\", \"pts\", \"pts/mp\", \"gd\"]].sort_values(\"sesonger\")\n",
    "\n",
    "print(vinnende_lag)"
   ]
  },
  {
   "cell_type": "code",
   "execution_count": 203,
   "id": "481ea563",
   "metadata": {},
   "outputs": [
    {
     "name": "stdout",
     "output_type": "stream",
     "text": [
      "🏆 Snitt poeng per kamp for serievinnerne de siste 5 sesongene: 2.31 pts/mp\n"
     ]
    }
   ],
   "source": [
    "vinnende_lag_siste_5 = full_data[(full_data['rk'] ==1) & (full_data[\"sesonger\"] < 2025)]\n",
    "\n",
    "snitt_pts_mp_vinnere = vinnende_lag_siste_5[\"pts/mp\"].mean()\n",
    "\n",
    "print(f\"🏆 Snitt poeng per kamp for serievinnerne de siste 5 sesongene: {snitt_pts_mp_vinnere:.2f} pts/mp\")"
   ]
  },
  {
   "cell_type": "code",
   "execution_count": 204,
   "id": "c8905679",
   "metadata": {},
   "outputs": [],
   "source": [
    "full_data[\"er_vinner\"] = (full_data[\"rk\"] == 1).astype(int)\n",
    "\n",
    "kunn_vinnere = full_data[full_data[\"er_vinner\"] == 1]"
   ]
  },
  {
   "cell_type": "code",
   "execution_count": 205,
   "id": "956dcbc3",
   "metadata": {},
   "outputs": [
    {
     "data": {
      "text/html": [
       "<div>\n",
       "<style scoped>\n",
       "    .dataframe tbody tr th:only-of-type {\n",
       "        vertical-align: middle;\n",
       "    }\n",
       "\n",
       "    .dataframe tbody tr th {\n",
       "        vertical-align: top;\n",
       "    }\n",
       "\n",
       "    .dataframe thead th {\n",
       "        text-align: right;\n",
       "    }\n",
       "</style>\n",
       "<table border=\"1\" class=\"dataframe\">\n",
       "  <thead>\n",
       "    <tr style=\"text-align: right;\">\n",
       "      <th></th>\n",
       "      <th>rk</th>\n",
       "      <th>squad</th>\n",
       "      <th>mp</th>\n",
       "      <th>w</th>\n",
       "      <th>d</th>\n",
       "      <th>l</th>\n",
       "      <th>gf</th>\n",
       "      <th>ga</th>\n",
       "      <th>gd</th>\n",
       "      <th>pts</th>\n",
       "      <th>pts/mp</th>\n",
       "      <th>xg</th>\n",
       "      <th>xga</th>\n",
       "      <th>xgd</th>\n",
       "      <th>xgd/90</th>\n",
       "      <th>attendance</th>\n",
       "      <th>top_team_scorer</th>\n",
       "      <th>goalkeeper</th>\n",
       "      <th>notes</th>\n",
       "      <th>sesonger</th>\n",
       "      <th>last_5</th>\n",
       "      <th>er_vinner</th>\n",
       "    </tr>\n",
       "  </thead>\n",
       "  <tbody>\n",
       "    <tr>\n",
       "      <th>0</th>\n",
       "      <td>1</td>\n",
       "      <td>Milan</td>\n",
       "      <td>38</td>\n",
       "      <td>26</td>\n",
       "      <td>8</td>\n",
       "      <td>4</td>\n",
       "      <td>69</td>\n",
       "      <td>31</td>\n",
       "      <td>38</td>\n",
       "      <td>86</td>\n",
       "      <td>2.26</td>\n",
       "      <td>59.7</td>\n",
       "      <td>35.9</td>\n",
       "      <td>23.8</td>\n",
       "      <td>0.63</td>\n",
       "      <td>44015</td>\n",
       "      <td>Olivier Giroud, Rafael Leão - 11</td>\n",
       "      <td>Mike Maignan</td>\n",
       "      <td>→ Champions League via league finish</td>\n",
       "      <td>2021</td>\n",
       "      <td>NaN</td>\n",
       "      <td>1</td>\n",
       "    </tr>\n",
       "    <tr>\n",
       "      <th>1</th>\n",
       "      <td>2</td>\n",
       "      <td>Inter</td>\n",
       "      <td>38</td>\n",
       "      <td>25</td>\n",
       "      <td>9</td>\n",
       "      <td>4</td>\n",
       "      <td>84</td>\n",
       "      <td>32</td>\n",
       "      <td>52</td>\n",
       "      <td>84</td>\n",
       "      <td>2.21</td>\n",
       "      <td>81.6</td>\n",
       "      <td>39.1</td>\n",
       "      <td>42.5</td>\n",
       "      <td>1.12</td>\n",
       "      <td>44473</td>\n",
       "      <td>Lautaro Martínez - 21</td>\n",
       "      <td>Samir Handanović</td>\n",
       "      <td>→ Champions League via league finish</td>\n",
       "      <td>2021</td>\n",
       "      <td>NaN</td>\n",
       "      <td>0</td>\n",
       "    </tr>\n",
       "  </tbody>\n",
       "</table>\n",
       "</div>"
      ],
      "text/plain": [
       "   rk  squad  mp   w  d  l  gf  ga  gd  pts  pts/mp    xg   xga   xgd  xgd/90  \\\n",
       "0   1  Milan  38  26  8  4  69  31  38   86    2.26  59.7  35.9  23.8    0.63   \n",
       "1   2  Inter  38  25  9  4  84  32  52   84    2.21  81.6  39.1  42.5    1.12   \n",
       "\n",
       "   attendance                   top_team_scorer        goalkeeper  \\\n",
       "0       44015  Olivier Giroud, Rafael Leão - 11      Mike Maignan   \n",
       "1       44473             Lautaro Martínez - 21  Samir Handanović   \n",
       "\n",
       "                                  notes  sesonger last_5  er_vinner  \n",
       "0  → Champions League via league finish      2021    NaN          1  \n",
       "1  → Champions League via league finish      2021    NaN          0  "
      ]
     },
     "execution_count": 205,
     "metadata": {},
     "output_type": "execute_result"
    }
   ],
   "source": [
    "full_data.head(2)"
   ]
  },
  {
   "cell_type": "code",
   "execution_count": 206,
   "id": "c04c3b7f",
   "metadata": {},
   "outputs": [
    {
     "name": "stdout",
     "output_type": "stream",
     "text": [
      "Mean av 'pts/mp': 2.30\n"
     ]
    }
   ],
   "source": [
    "mean_pts_pm = kunn_vinnere[\"pts/mp\"].mean()\n",
    "\n",
    "print(f\"Mean av 'pts/mp': {mean_pts_pm:.2f}\")\n"
   ]
  },
  {
   "cell_type": "code",
   "execution_count": 207,
   "id": "746ed5f7",
   "metadata": {},
   "outputs": [
    {
     "data": {
      "image/png": "[encoded data removed]",
      "text/plain": [
       "<Figure size 1000x500 with 1 Axes>"
      ]
     },
     "metadata": {},
     "output_type": "display_data"
    }
   ],
   "source": [
    "import matplotlib.pyplot as plt\n",
    "\n",
    "plt.figure(figsize=(10,5))\n",
    "plt.plot(kunn_vinnere[\"sesonger\"], kunn_vinnere[\"pts/mp\"], marker='o', linestyle='-', color='b')\n",
    "plt.axhline(y=mean_pts_pm, color='r', linestyle='-', label=f'Mean pts/mp: {mean_pts_pm:.2f}')\n",
    "plt.xlabel('Sesonger')\n",
    "plt.ylabel('Poeng per kamp (pts/mp)')\n",
    "plt.title('Serievinnernes Poeng per Kamp over Sesonger')\n",
    "plt.grid(True)\n",
    "plt.legend()\n",
    "plt.show()"
   ]
  },
  {
   "cell_type": "code",
   "execution_count": 208,
   "id": "a93e9fcc",
   "metadata": {},
   "outputs": [],
   "source": [
    "from sklearn.ensemble import RandomForestClassifier\n",
    "from sklearn.preprocessing import StandardScaler\n",
    "from sklearn.metrics import accuracy_score, classification_report, confusion_matrix, roc_auc_score, log_loss\n",
    "from sklearn.model_selection import cross_val_score\n",
    "import pandas as pd\n",
    "import numpy as np\n"
   ]
  },
  {
   "cell_type": "code",
   "execution_count": 209,
   "id": "d649b3df",
   "metadata": {},
   "outputs": [],
   "source": [
    "full_data[\"kamper_igjen\"] = 38 - full_data[\"mp\"]\n",
    "\n",
    "full_data[\"forventet_pts\"] = full_data[\"pts\"] + (full_data[\"pts/mp\"] * full_data[\"kamper_igjen\"])\n",
    "\n",
    "full_data[\"er_vinner\"] = (full_data[\"rk\"] == 1).astype(int)\n"
   ]
  },
  {
   "cell_type": "code",
   "execution_count": 210,
   "id": "bdcafcb2",
   "metadata": {},
   "outputs": [
    {
     "name": "stdout",
     "output_type": "stream",
     "text": [
      "Lagt til rolling-season features: pts_mp_last3_mean, gd_last3_mean, pts_mp_prev*, pts_mp_trend, seasons_played\n"
     ]
    }
   ],
   "source": [
    "# Lag season-baserte rolling-features per lag (bruk kun tidligere sesonger for å unngå lekkasje)\n",
    "full_data = full_data.sort_values(['squad', 'sesonger'])\n",
    "\n",
    "# Shift så vi kun bruker tidligere sesongers verdier for hver rad\n",
    "full_data['pts_mp_prev1'] = full_data.groupby('squad')['pts/mp'].shift(1)\n",
    "full_data['pts_mp_prev2'] = full_data.groupby('squad')['pts/mp'].shift(2)\n",
    "full_data['pts_mp_prev3'] = full_data.groupby('squad')['pts/mp'].shift(3)\n",
    "full_data['pts_mp_last3_mean'] = full_data[['pts_mp_prev1', 'pts_mp_prev2', 'pts_mp_prev3']].mean(axis=1)\n",
    "\n",
    "full_data['gd_prev1'] = full_data.groupby('squad')['gd'].shift(1)\n",
    "full_data['gd_prev2'] = full_data.groupby('squad')['gd'].shift(2)\n",
    "full_data['gd_prev3'] = full_data.groupby('squad')['gd'].shift(3)\n",
    "full_data['gd_last3_mean'] = full_data[['gd_prev1', 'gd_prev2', 'gd_prev3']].mean(axis=1)\n",
    "\n",
    "# Enkel trend (endring fra siste til nest siste sesong)\n",
    "full_data['pts_mp_trend'] = full_data['pts_mp_prev1'] - full_data['pts_mp_prev2']\n",
    "\n",
    "# Hvor mange tidligere sesonger finnes for laget (0 betyr ingen tidligere sesong)\n",
    "full_data['seasons_played'] = full_data.groupby('squad').cumcount()\n",
    "\n",
    "print('Lagt til rolling-season features: pts_mp_last3_mean, gd_last3_mean, pts_mp_prev*, pts_mp_trend, seasons_played')\n"
   ]
  },
  {
   "cell_type": "code",
   "execution_count": 211,
   "id": "e3d6e081",
   "metadata": {},
   "outputs": [
    {
     "data": {
      "text/html": [
       "<div>\n",
       "<style scoped>\n",
       "    .dataframe tbody tr th:only-of-type {\n",
       "        vertical-align: middle;\n",
       "    }\n",
       "\n",
       "    .dataframe tbody tr th {\n",
       "        vertical-align: top;\n",
       "    }\n",
       "\n",
       "    .dataframe thead th {\n",
       "        text-align: right;\n",
       "    }\n",
       "</style>\n",
       "<table border=\"1\" class=\"dataframe\">\n",
       "  <thead>\n",
       "    <tr style=\"text-align: right;\">\n",
       "      <th></th>\n",
       "      <th>rk</th>\n",
       "      <th>squad</th>\n",
       "      <th>mp</th>\n",
       "      <th>w</th>\n",
       "      <th>d</th>\n",
       "      <th>l</th>\n",
       "      <th>gf</th>\n",
       "      <th>ga</th>\n",
       "      <th>gd</th>\n",
       "      <th>pts</th>\n",
       "      <th>pts/mp</th>\n",
       "      <th>xg</th>\n",
       "      <th>xga</th>\n",
       "      <th>xgd</th>\n",
       "      <th>xgd/90</th>\n",
       "      <th>attendance</th>\n",
       "      <th>top_team_scorer</th>\n",
       "      <th>goalkeeper</th>\n",
       "      <th>notes</th>\n",
       "      <th>sesonger</th>\n",
       "      <th>last_5</th>\n",
       "      <th>er_vinner</th>\n",
       "      <th>kamper_igjen</th>\n",
       "      <th>forventet_pts</th>\n",
       "      <th>pts_mp_prev1</th>\n",
       "      <th>pts_mp_prev2</th>\n",
       "      <th>pts_mp_prev3</th>\n",
       "      <th>pts_mp_last3_mean</th>\n",
       "      <th>gd_prev1</th>\n",
       "      <th>gd_prev2</th>\n",
       "      <th>gd_prev3</th>\n",
       "      <th>gd_last3_mean</th>\n",
       "      <th>pts_mp_trend</th>\n",
       "      <th>seasons_played</th>\n",
       "    </tr>\n",
       "  </thead>\n",
       "  <tbody>\n",
       "    <tr>\n",
       "      <th>88</th>\n",
       "      <td>9</td>\n",
       "      <td>Udinese</td>\n",
       "      <td>8</td>\n",
       "      <td>3</td>\n",
       "      <td>3</td>\n",
       "      <td>2</td>\n",
       "      <td>10</td>\n",
       "      <td>12</td>\n",
       "      <td>-2</td>\n",
       "      <td>12</td>\n",
       "      <td>1.50</td>\n",
       "      <td>9.1</td>\n",
       "      <td>7.9</td>\n",
       "      <td>1.1</td>\n",
       "      <td>0.14</td>\n",
       "      <td>21022</td>\n",
       "      <td>Keinan Davis - 3</td>\n",
       "      <td>Razvan Sava</td>\n",
       "      <td>NaN</td>\n",
       "      <td>2025</td>\n",
       "      <td>L L D D W</td>\n",
       "      <td>0</td>\n",
       "      <td>30</td>\n",
       "      <td>57.0</td>\n",
       "      <td>1.16</td>\n",
       "      <td>0.97</td>\n",
       "      <td>1.21</td>\n",
       "      <td>1.113333</td>\n",
       "      <td>-15.0</td>\n",
       "      <td>-16.0</td>\n",
       "      <td>-1.0</td>\n",
       "      <td>-10.666667</td>\n",
       "      <td>0.19</td>\n",
       "      <td>4</td>\n",
       "    </tr>\n",
       "    <tr>\n",
       "      <th>19</th>\n",
       "      <td>20</td>\n",
       "      <td>Venezia</td>\n",
       "      <td>38</td>\n",
       "      <td>6</td>\n",
       "      <td>9</td>\n",
       "      <td>23</td>\n",
       "      <td>34</td>\n",
       "      <td>69</td>\n",
       "      <td>-35</td>\n",
       "      <td>27</td>\n",
       "      <td>0.71</td>\n",
       "      <td>36.5</td>\n",
       "      <td>71.8</td>\n",
       "      <td>-35.3</td>\n",
       "      <td>-0.93</td>\n",
       "      <td>6648</td>\n",
       "      <td>Thomas Henry - 9</td>\n",
       "      <td>Niki Mäenpää</td>\n",
       "      <td>Relegated</td>\n",
       "      <td>2021</td>\n",
       "      <td>NaN</td>\n",
       "      <td>0</td>\n",
       "      <td>0</td>\n",
       "      <td>27.0</td>\n",
       "      <td>NaN</td>\n",
       "      <td>NaN</td>\n",
       "      <td>NaN</td>\n",
       "      <td>NaN</td>\n",
       "      <td>NaN</td>\n",
       "      <td>NaN</td>\n",
       "      <td>NaN</td>\n",
       "      <td>NaN</td>\n",
       "      <td>NaN</td>\n",
       "      <td>0</td>\n",
       "    </tr>\n",
       "    <tr>\n",
       "      <th>78</th>\n",
       "      <td>19</td>\n",
       "      <td>Venezia</td>\n",
       "      <td>38</td>\n",
       "      <td>5</td>\n",
       "      <td>14</td>\n",
       "      <td>19</td>\n",
       "      <td>32</td>\n",
       "      <td>56</td>\n",
       "      <td>-24</td>\n",
       "      <td>29</td>\n",
       "      <td>0.76</td>\n",
       "      <td>35.8</td>\n",
       "      <td>57.5</td>\n",
       "      <td>-21.7</td>\n",
       "      <td>-0.57</td>\n",
       "      <td>10415</td>\n",
       "      <td>Joel Pohjanpalo - 6</td>\n",
       "      <td>Filip Stankovic</td>\n",
       "      <td>Relegated</td>\n",
       "      <td>2024</td>\n",
       "      <td>NaN</td>\n",
       "      <td>0</td>\n",
       "      <td>0</td>\n",
       "      <td>29.0</td>\n",
       "      <td>0.71</td>\n",
       "      <td>NaN</td>\n",
       "      <td>NaN</td>\n",
       "      <td>0.710000</td>\n",
       "      <td>-35.0</td>\n",
       "      <td>NaN</td>\n",
       "      <td>NaN</td>\n",
       "      <td>-35.000000</td>\n",
       "      <td>NaN</td>\n",
       "      <td>1</td>\n",
       "    </tr>\n",
       "  </tbody>\n",
       "</table>\n",
       "</div>"
      ],
      "text/plain": [
       "    rk    squad  mp  w   d   l  gf  ga  gd  pts  pts/mp    xg   xga   xgd  \\\n",
       "88   9  Udinese   8  3   3   2  10  12  -2   12    1.50   9.1   7.9   1.1   \n",
       "19  20  Venezia  38  6   9  23  34  69 -35   27    0.71  36.5  71.8 -35.3   \n",
       "78  19  Venezia  38  5  14  19  32  56 -24   29    0.76  35.8  57.5 -21.7   \n",
       "\n",
       "    xgd/90  attendance      top_team_scorer       goalkeeper      notes  \\\n",
       "88    0.14       21022     Keinan Davis - 3      Razvan Sava        NaN   \n",
       "19   -0.93        6648     Thomas Henry - 9     Niki Mäenpää  Relegated   \n",
       "78   -0.57       10415  Joel Pohjanpalo - 6  Filip Stankovic  Relegated   \n",
       "\n",
       "    sesonger     last_5  er_vinner  kamper_igjen  forventet_pts  pts_mp_prev1  \\\n",
       "88      2025  L L D D W          0            30           57.0          1.16   \n",
       "19      2021        NaN          0             0           27.0           NaN   \n",
       "78      2024        NaN          0             0           29.0          0.71   \n",
       "\n",
       "    pts_mp_prev2  pts_mp_prev3  pts_mp_last3_mean  gd_prev1  gd_prev2  \\\n",
       "88          0.97          1.21           1.113333     -15.0     -16.0   \n",
       "19           NaN           NaN                NaN       NaN       NaN   \n",
       "78           NaN           NaN           0.710000     -35.0       NaN   \n",
       "\n",
       "    gd_prev3  gd_last3_mean  pts_mp_trend  seasons_played  \n",
       "88      -1.0     -10.666667          0.19               4  \n",
       "19       NaN            NaN           NaN               0  \n",
       "78       NaN     -35.000000           NaN               1  "
      ]
     },
     "execution_count": 211,
     "metadata": {},
     "output_type": "execute_result"
    }
   ],
   "source": [
    "full_data.tail(3)"
   ]
  },
  {
   "cell_type": "code",
   "execution_count": 212,
   "id": "4a6eb4ca",
   "metadata": {},
   "outputs": [
    {
     "name": "stdout",
     "output_type": "stream",
     "text": [
      "y_train value counts:\n",
      " er_vinner\n",
      "0    76\n",
      "1     4\n",
      "Name: count, dtype: int64\n"
     ]
    }
   ],
   "source": [
    "fetures = [\"pts/mp\", \"gd\", \"w\", \"d\", \"l\", \"forventet_pts\", \"pts_mp_last3_mean\", \"gd_last3_mean\", \"pts_mp_trend\", \"seasons_played\"]\n",
    "\n",
    "# Split basert på sesonger\n",
    "df_train = full_data[full_data[\"sesonger\"] < 2025]\n",
    "\n",
    "df_test = full_data[full_data[\"sesonger\"] == 2025].copy()\n",
    "\n",
    "X_train = df_train[fetures].fillna(0)\n",
    "y_train = df_train[\"er_vinner\"]\n",
    "X_test = df_test[fetures].fillna(0)\n",
    "\n",
    "# Sjekk klassefordeling\n",
    "print(\"y_train value counts:\\n\", y_train.value_counts())\n"
   ]
  },
  {
   "cell_type": "code",
   "execution_count": null,
   "id": "c94a3ece",
   "metadata": {},
   "outputs": [],
   "source": []
  },
  {
   "cell_type": "code",
   "execution_count": 213,
   "id": "ba5f10fc",
   "metadata": {},
   "outputs": [
    {
     "name": "stdout",
     "output_type": "stream",
     "text": [
      "Model trent ferdig.\n"
     ]
    }
   ],
   "source": [
    "# Fyll NaN på nytt for sikkerhet\n",
    "X_train = X_train.fillna(0)\n",
    "X_test = X_test.fillna(0)\n",
    "\n",
    "# Bruk class_weight for å håndtere skjev target\n",
    "from sklearn.ensemble import RandomForestClassifier\n",
    "model = RandomForestClassifier(n_estimators=200, random_state=42, class_weight='balanced', n_jobs=-1)\n",
    "model.fit(X_train, y_train)\n",
    "\n",
    "print(\"Model trent ferdig.\")\n"
   ]
  },
  {
   "cell_type": "code",
   "execution_count": 214,
   "id": "77fa3fd5",
   "metadata": {},
   "outputs": [],
   "source": [
    "train_preds = model.predict(X_train)\n",
    "train_probs = model.predict_proba(X_train)[:, 1]\n"
   ]
  },
  {
   "cell_type": "code",
   "execution_count": 215,
   "id": "351521a6",
   "metadata": {},
   "outputs": [
    {
     "name": "stdout",
     "output_type": "stream",
     "text": [
      "\n",
      "Model Performance på Treningsdata:\n",
      " - Nøyaktighet: 1.000\n",
      " - ROC AUC: 1.000\n",
      " - Logg tap: 0.023\n",
      "\n",
      "Klassifikasjonsrapport:\n",
      "              precision    recall  f1-score   support\n",
      "\n",
      "           0       1.00      1.00      1.00        76\n",
      "           1       1.00      1.00      1.00         4\n",
      "\n",
      "    accuracy                           1.00        80\n",
      "   macro avg       1.00      1.00      1.00        80\n",
      "weighted avg       1.00      1.00      1.00        80\n",
      "\n",
      "Confusion Matrix:\n",
      "[[76  0]\n",
      " [ 0  4]]\n"
     ]
    }
   ],
   "source": [
    "accuracy = accuracy_score(y_train, train_preds)\n",
    "roc_auc = roc_auc_score(y_train, train_probs)\n",
    "logloss = log_loss(y_train, train_probs)\n",
    "\n",
    "print(f\"\\nModel Performance på Treningsdata:\")\n",
    "print(f\" - Nøyaktighet: {accuracy:.3f}\")\n",
    "print(f\" - ROC AUC: {roc_auc:.3f}\")\n",
    "print(f\" - Logg tap: {logloss:.3f}\")\n",
    "\n",
    "print(\"\\nKlassifikasjonsrapport:\")\n",
    "print(classification_report(y_train, train_preds))\n",
    "\n",
    "print(\"Confusion Matrix:\")\n",
    "print(confusion_matrix(y_train, train_preds))\n",
    "\n"
   ]
  },
  {
   "cell_type": "markdown",
   "id": "ce101df3",
   "metadata": {},
   "source": [
    "* Nøyaktighet = hver gang modellen sa ja, hvor mange ganger var dette riktig\n",
    "* Recall = hvor mange av de faktiske ja ene fant modellen\n",
    "* F1-score = en blanding av recall og nøyaktighet\n",
    "* support = anntallet tilfeller\n",
    "* confusion matrix = tabell som viser hva modellen fikk rett og hva den fikk feil"
   ]
  },
  {
   "cell_type": "code",
   "execution_count": 216,
   "id": "ff3cfe0c",
   "metadata": {},
   "outputs": [],
   "source": [
    "df_test[\"sjanse_vinner\"] = model.predict_proba(X_test)[:, 1]"
   ]
  },
  {
   "cell_type": "code",
   "execution_count": 217,
   "id": "498dcdbe",
   "metadata": {},
   "outputs": [
    {
     "data": {
      "text/html": [
       "<div>\n",
       "<style scoped>\n",
       "    .dataframe tbody tr th:only-of-type {\n",
       "        vertical-align: middle;\n",
       "    }\n",
       "\n",
       "    .dataframe tbody tr th {\n",
       "        vertical-align: top;\n",
       "    }\n",
       "\n",
       "    .dataframe thead th {\n",
       "        text-align: right;\n",
       "    }\n",
       "</style>\n",
       "<table border=\"1\" class=\"dataframe\">\n",
       "  <thead>\n",
       "    <tr style=\"text-align: right;\">\n",
       "      <th></th>\n",
       "      <th>rk</th>\n",
       "      <th>squad</th>\n",
       "      <th>mp</th>\n",
       "      <th>w</th>\n",
       "      <th>d</th>\n",
       "      <th>l</th>\n",
       "      <th>gf</th>\n",
       "      <th>ga</th>\n",
       "      <th>gd</th>\n",
       "      <th>pts</th>\n",
       "      <th>pts/mp</th>\n",
       "      <th>xg</th>\n",
       "      <th>xga</th>\n",
       "      <th>xgd</th>\n",
       "      <th>xgd/90</th>\n",
       "      <th>attendance</th>\n",
       "      <th>top_team_scorer</th>\n",
       "      <th>goalkeeper</th>\n",
       "      <th>notes</th>\n",
       "      <th>sesonger</th>\n",
       "      <th>last_5</th>\n",
       "      <th>er_vinner</th>\n",
       "      <th>kamper_igjen</th>\n",
       "      <th>forventet_pts</th>\n",
       "      <th>pts_mp_prev1</th>\n",
       "      <th>pts_mp_prev2</th>\n",
       "      <th>pts_mp_prev3</th>\n",
       "      <th>pts_mp_last3_mean</th>\n",
       "      <th>gd_prev1</th>\n",
       "      <th>gd_prev2</th>\n",
       "      <th>gd_prev3</th>\n",
       "      <th>gd_last3_mean</th>\n",
       "      <th>pts_mp_trend</th>\n",
       "      <th>seasons_played</th>\n",
       "      <th>sjanse_vinner</th>\n",
       "    </tr>\n",
       "  </thead>\n",
       "  <tbody>\n",
       "    <tr>\n",
       "      <th>86</th>\n",
       "      <td>7</td>\n",
       "      <td>Atalanta</td>\n",
       "      <td>8</td>\n",
       "      <td>2</td>\n",
       "      <td>6</td>\n",
       "      <td>0</td>\n",
       "      <td>12</td>\n",
       "      <td>6</td>\n",
       "      <td>6</td>\n",
       "      <td>12</td>\n",
       "      <td>1.50</td>\n",
       "      <td>11.8</td>\n",
       "      <td>7.1</td>\n",
       "      <td>4.7</td>\n",
       "      <td>0.58</td>\n",
       "      <td>22220</td>\n",
       "      <td>Nikola Krstović, Charles De Ketelaere... - 2</td>\n",
       "      <td>Marco Carnesecchi</td>\n",
       "      <td>NaN</td>\n",
       "      <td>2025</td>\n",
       "      <td>W D D D D</td>\n",
       "      <td>0</td>\n",
       "      <td>30</td>\n",
       "      <td>57.0</td>\n",
       "      <td>1.95</td>\n",
       "      <td>1.82</td>\n",
       "      <td>1.68</td>\n",
       "      <td>1.816667</td>\n",
       "      <td>41.0</td>\n",
       "      <td>30.0</td>\n",
       "      <td>18.0</td>\n",
       "      <td>29.666667</td>\n",
       "      <td>0.13</td>\n",
       "      <td>4</td>\n",
       "      <td>0.080</td>\n",
       "    </tr>\n",
       "    <tr>\n",
       "      <th>84</th>\n",
       "      <td>5</td>\n",
       "      <td>Bologna</td>\n",
       "      <td>8</td>\n",
       "      <td>4</td>\n",
       "      <td>2</td>\n",
       "      <td>2</td>\n",
       "      <td>13</td>\n",
       "      <td>7</td>\n",
       "      <td>6</td>\n",
       "      <td>14</td>\n",
       "      <td>1.75</td>\n",
       "      <td>10.4</td>\n",
       "      <td>9.3</td>\n",
       "      <td>1.1</td>\n",
       "      <td>0.14</td>\n",
       "      <td>28106</td>\n",
       "      <td>Riccardo Orsolini - 5</td>\n",
       "      <td>Łukasz Skorupski</td>\n",
       "      <td>NaN</td>\n",
       "      <td>2025</td>\n",
       "      <td>W D W W D</td>\n",
       "      <td>0</td>\n",
       "      <td>30</td>\n",
       "      <td>66.5</td>\n",
       "      <td>1.63</td>\n",
       "      <td>1.79</td>\n",
       "      <td>1.42</td>\n",
       "      <td>1.613333</td>\n",
       "      <td>10.0</td>\n",
       "      <td>22.0</td>\n",
       "      <td>4.0</td>\n",
       "      <td>12.000000</td>\n",
       "      <td>-0.16</td>\n",
       "      <td>4</td>\n",
       "      <td>0.075</td>\n",
       "    </tr>\n",
       "    <tr>\n",
       "      <th>93</th>\n",
       "      <td>14</td>\n",
       "      <td>Cagliari</td>\n",
       "      <td>8</td>\n",
       "      <td>2</td>\n",
       "      <td>3</td>\n",
       "      <td>3</td>\n",
       "      <td>8</td>\n",
       "      <td>10</td>\n",
       "      <td>-2</td>\n",
       "      <td>9</td>\n",
       "      <td>1.13</td>\n",
       "      <td>6.8</td>\n",
       "      <td>13.8</td>\n",
       "      <td>-7.0</td>\n",
       "      <td>-0.88</td>\n",
       "      <td>16063</td>\n",
       "      <td>Andrea Belotti, Mattia Felici - 2</td>\n",
       "      <td>Elia Caprile</td>\n",
       "      <td>NaN</td>\n",
       "      <td>2025</td>\n",
       "      <td>W L D L D</td>\n",
       "      <td>0</td>\n",
       "      <td>30</td>\n",
       "      <td>42.9</td>\n",
       "      <td>0.95</td>\n",
       "      <td>0.95</td>\n",
       "      <td>0.79</td>\n",
       "      <td>0.896667</td>\n",
       "      <td>-16.0</td>\n",
       "      <td>-26.0</td>\n",
       "      <td>-34.0</td>\n",
       "      <td>-25.333333</td>\n",
       "      <td>0.00</td>\n",
       "      <td>3</td>\n",
       "      <td>0.065</td>\n",
       "    </tr>\n",
       "    <tr>\n",
       "      <th>85</th>\n",
       "      <td>6</td>\n",
       "      <td>Como</td>\n",
       "      <td>8</td>\n",
       "      <td>3</td>\n",
       "      <td>4</td>\n",
       "      <td>1</td>\n",
       "      <td>9</td>\n",
       "      <td>5</td>\n",
       "      <td>4</td>\n",
       "      <td>13</td>\n",
       "      <td>1.63</td>\n",
       "      <td>9.6</td>\n",
       "      <td>7.2</td>\n",
       "      <td>2.3</td>\n",
       "      <td>0.29</td>\n",
       "      <td>11622</td>\n",
       "      <td>Nicolás Paz - 4</td>\n",
       "      <td>Jean Butez</td>\n",
       "      <td>NaN</td>\n",
       "      <td>2025</td>\n",
       "      <td>W D D W D</td>\n",
       "      <td>0</td>\n",
       "      <td>30</td>\n",
       "      <td>61.9</td>\n",
       "      <td>1.29</td>\n",
       "      <td>NaN</td>\n",
       "      <td>NaN</td>\n",
       "      <td>1.290000</td>\n",
       "      <td>-3.0</td>\n",
       "      <td>NaN</td>\n",
       "      <td>NaN</td>\n",
       "      <td>-3.000000</td>\n",
       "      <td>NaN</td>\n",
       "      <td>1</td>\n",
       "      <td>0.075</td>\n",
       "    </tr>\n",
       "    <tr>\n",
       "      <th>90</th>\n",
       "      <td>11</td>\n",
       "      <td>Cremonese</td>\n",
       "      <td>8</td>\n",
       "      <td>2</td>\n",
       "      <td>5</td>\n",
       "      <td>1</td>\n",
       "      <td>9</td>\n",
       "      <td>10</td>\n",
       "      <td>-1</td>\n",
       "      <td>11</td>\n",
       "      <td>1.38</td>\n",
       "      <td>6.4</td>\n",
       "      <td>12.1</td>\n",
       "      <td>-5.7</td>\n",
       "      <td>-0.71</td>\n",
       "      <td>11440</td>\n",
       "      <td>Federico Bonazzoli, Federico Baschirotto... - 2</td>\n",
       "      <td>Marco Silvestri, Emil Audero</td>\n",
       "      <td>NaN</td>\n",
       "      <td>2025</td>\n",
       "      <td>D D L D D</td>\n",
       "      <td>0</td>\n",
       "      <td>30</td>\n",
       "      <td>52.4</td>\n",
       "      <td>0.71</td>\n",
       "      <td>NaN</td>\n",
       "      <td>NaN</td>\n",
       "      <td>0.710000</td>\n",
       "      <td>-33.0</td>\n",
       "      <td>NaN</td>\n",
       "      <td>NaN</td>\n",
       "      <td>-33.000000</td>\n",
       "      <td>NaN</td>\n",
       "      <td>1</td>\n",
       "      <td>0.065</td>\n",
       "    </tr>\n",
       "  </tbody>\n",
       "</table>\n",
       "</div>"
      ],
      "text/plain": [
       "    rk      squad  mp  w  d  l  gf  ga  gd  pts  pts/mp    xg   xga  xgd  \\\n",
       "86   7   Atalanta   8  2  6  0  12   6   6   12    1.50  11.8   7.1  4.7   \n",
       "84   5    Bologna   8  4  2  2  13   7   6   14    1.75  10.4   9.3  1.1   \n",
       "93  14   Cagliari   8  2  3  3   8  10  -2    9    1.13   6.8  13.8 -7.0   \n",
       "85   6       Como   8  3  4  1   9   5   4   13    1.63   9.6   7.2  2.3   \n",
       "90  11  Cremonese   8  2  5  1   9  10  -1   11    1.38   6.4  12.1 -5.7   \n",
       "\n",
       "    xgd/90  attendance                                  top_team_scorer  \\\n",
       "86    0.58       22220     Nikola Krstović, Charles De Ketelaere... - 2   \n",
       "84    0.14       28106                            Riccardo Orsolini - 5   \n",
       "93   -0.88       16063                Andrea Belotti, Mattia Felici - 2   \n",
       "85    0.29       11622                                  Nicolás Paz - 4   \n",
       "90   -0.71       11440  Federico Bonazzoli, Federico Baschirotto... - 2   \n",
       "\n",
       "                      goalkeeper notes  sesonger     last_5  er_vinner  \\\n",
       "86             Marco Carnesecchi   NaN      2025  W D D D D          0   \n",
       "84              Łukasz Skorupski   NaN      2025  W D W W D          0   \n",
       "93                  Elia Caprile   NaN      2025  W L D L D          0   \n",
       "85                    Jean Butez   NaN      2025  W D D W D          0   \n",
       "90  Marco Silvestri, Emil Audero   NaN      2025  D D L D D          0   \n",
       "\n",
       "    kamper_igjen  forventet_pts  pts_mp_prev1  pts_mp_prev2  pts_mp_prev3  \\\n",
       "86            30           57.0          1.95          1.82          1.68   \n",
       "84            30           66.5          1.63          1.79          1.42   \n",
       "93            30           42.9          0.95          0.95          0.79   \n",
       "85            30           61.9          1.29           NaN           NaN   \n",
       "90            30           52.4          0.71           NaN           NaN   \n",
       "\n",
       "    pts_mp_last3_mean  gd_prev1  gd_prev2  gd_prev3  gd_last3_mean  \\\n",
       "86           1.816667      41.0      30.0      18.0      29.666667   \n",
       "84           1.613333      10.0      22.0       4.0      12.000000   \n",
       "93           0.896667     -16.0     -26.0     -34.0     -25.333333   \n",
       "85           1.290000      -3.0       NaN       NaN      -3.000000   \n",
       "90           0.710000     -33.0       NaN       NaN     -33.000000   \n",
       "\n",
       "    pts_mp_trend  seasons_played  sjanse_vinner  \n",
       "86          0.13               4          0.080  \n",
       "84         -0.16               4          0.075  \n",
       "93          0.00               3          0.065  \n",
       "85           NaN               1          0.075  \n",
       "90           NaN               1          0.065  "
      ]
     },
     "execution_count": 217,
     "metadata": {},
     "output_type": "execute_result"
    }
   ],
   "source": [
    "df_test.head()"
   ]
  },
  {
   "cell_type": "code",
   "execution_count": 218,
   "id": "d47084ac",
   "metadata": {},
   "outputs": [],
   "source": [
    "df_test[\"sjanse_vinner (%)\"] = df_test[\"sjanse_vinner\"] / df_test[\"sjanse_vinner\"].sum() * 100\n",
    "\n",
    "df_test[\"sjanse_vinner (%)\"] = df_test[\"sjanse_vinner (%)\"].round(3)\n"
   ]
  },
  {
   "cell_type": "code",
   "execution_count": 219,
   "id": "28def7a5",
   "metadata": {},
   "outputs": [
    {
     "name": "stdout",
     "output_type": "stream",
     "text": [
      "Topp kandidater etter Poisson-simulering:\n"
     ]
    },
    {
     "data": {
      "text/html": [
       "<div>\n",
       "<style scoped>\n",
       "    .dataframe tbody tr th:only-of-type {\n",
       "        vertical-align: middle;\n",
       "    }\n",
       "\n",
       "    .dataframe tbody tr th {\n",
       "        vertical-align: top;\n",
       "    }\n",
       "\n",
       "    .dataframe thead th {\n",
       "        text-align: right;\n",
       "    }\n",
       "</style>\n",
       "<table border=\"1\" class=\"dataframe\">\n",
       "  <thead>\n",
       "    <tr style=\"text-align: right;\">\n",
       "      <th></th>\n",
       "      <th>squad</th>\n",
       "      <th>pts</th>\n",
       "      <th>kamper_igjen</th>\n",
       "      <th>poisson_win_prob (%)</th>\n",
       "    </tr>\n",
       "  </thead>\n",
       "  <tbody>\n",
       "    <tr>\n",
       "      <th>80</th>\n",
       "      <td>Napoli</td>\n",
       "      <td>18</td>\n",
       "      <td>30</td>\n",
       "      <td>43.84</td>\n",
       "    </tr>\n",
       "    <tr>\n",
       "      <th>81</th>\n",
       "      <td>Roma</td>\n",
       "      <td>18</td>\n",
       "      <td>30</td>\n",
       "      <td>25.66</td>\n",
       "    </tr>\n",
       "    <tr>\n",
       "      <th>82</th>\n",
       "      <td>Milan</td>\n",
       "      <td>17</td>\n",
       "      <td>30</td>\n",
       "      <td>14.52</td>\n",
       "    </tr>\n",
       "    <tr>\n",
       "      <th>83</th>\n",
       "      <td>Inter</td>\n",
       "      <td>15</td>\n",
       "      <td>30</td>\n",
       "      <td>9.48</td>\n",
       "    </tr>\n",
       "    <tr>\n",
       "      <th>84</th>\n",
       "      <td>Bologna</td>\n",
       "      <td>14</td>\n",
       "      <td>30</td>\n",
       "      <td>3.34</td>\n",
       "    </tr>\n",
       "    <tr>\n",
       "      <th>86</th>\n",
       "      <td>Atalanta</td>\n",
       "      <td>12</td>\n",
       "      <td>30</td>\n",
       "      <td>1.50</td>\n",
       "    </tr>\n",
       "    <tr>\n",
       "      <th>85</th>\n",
       "      <td>Como</td>\n",
       "      <td>13</td>\n",
       "      <td>30</td>\n",
       "      <td>0.92</td>\n",
       "    </tr>\n",
       "    <tr>\n",
       "      <th>89</th>\n",
       "      <td>Lazio</td>\n",
       "      <td>11</td>\n",
       "      <td>30</td>\n",
       "      <td>0.54</td>\n",
       "    </tr>\n",
       "    <tr>\n",
       "      <th>87</th>\n",
       "      <td>Juventus</td>\n",
       "      <td>12</td>\n",
       "      <td>30</td>\n",
       "      <td>0.14</td>\n",
       "    </tr>\n",
       "    <tr>\n",
       "      <th>92</th>\n",
       "      <td>Sassuolo</td>\n",
       "      <td>10</td>\n",
       "      <td>30</td>\n",
       "      <td>0.04</td>\n",
       "    </tr>\n",
       "    <tr>\n",
       "      <th>90</th>\n",
       "      <td>Cremonese</td>\n",
       "      <td>11</td>\n",
       "      <td>30</td>\n",
       "      <td>0.02</td>\n",
       "    </tr>\n",
       "    <tr>\n",
       "      <th>96</th>\n",
       "      <td>Hellas Verona</td>\n",
       "      <td>5</td>\n",
       "      <td>30</td>\n",
       "      <td>0.00</td>\n",
       "    </tr>\n",
       "    <tr>\n",
       "      <th>99</th>\n",
       "      <td>Genoa</td>\n",
       "      <td>3</td>\n",
       "      <td>30</td>\n",
       "      <td>0.00</td>\n",
       "    </tr>\n",
       "    <tr>\n",
       "      <th>95</th>\n",
       "      <td>Lecce</td>\n",
       "      <td>6</td>\n",
       "      <td>30</td>\n",
       "      <td>0.00</td>\n",
       "    </tr>\n",
       "    <tr>\n",
       "      <th>97</th>\n",
       "      <td>Fiorentina</td>\n",
       "      <td>4</td>\n",
       "      <td>30</td>\n",
       "      <td>0.00</td>\n",
       "    </tr>\n",
       "    <tr>\n",
       "      <th>94</th>\n",
       "      <td>Parma</td>\n",
       "      <td>7</td>\n",
       "      <td>30</td>\n",
       "      <td>0.00</td>\n",
       "    </tr>\n",
       "    <tr>\n",
       "      <th>98</th>\n",
       "      <td>Pisa</td>\n",
       "      <td>4</td>\n",
       "      <td>30</td>\n",
       "      <td>0.00</td>\n",
       "    </tr>\n",
       "    <tr>\n",
       "      <th>93</th>\n",
       "      <td>Cagliari</td>\n",
       "      <td>9</td>\n",
       "      <td>30</td>\n",
       "      <td>0.00</td>\n",
       "    </tr>\n",
       "    <tr>\n",
       "      <th>91</th>\n",
       "      <td>Torino</td>\n",
       "      <td>11</td>\n",
       "      <td>30</td>\n",
       "      <td>0.00</td>\n",
       "    </tr>\n",
       "    <tr>\n",
       "      <th>88</th>\n",
       "      <td>Udinese</td>\n",
       "      <td>12</td>\n",
       "      <td>30</td>\n",
       "      <td>0.00</td>\n",
       "    </tr>\n",
       "  </tbody>\n",
       "</table>\n",
       "</div>"
      ],
      "text/plain": [
       "            squad  pts  kamper_igjen  poisson_win_prob (%)\n",
       "80         Napoli   18            30                 43.84\n",
       "81           Roma   18            30                 25.66\n",
       "82          Milan   17            30                 14.52\n",
       "83          Inter   15            30                  9.48\n",
       "84        Bologna   14            30                  3.34\n",
       "86       Atalanta   12            30                  1.50\n",
       "85           Como   13            30                  0.92\n",
       "89          Lazio   11            30                  0.54\n",
       "87       Juventus   12            30                  0.14\n",
       "92       Sassuolo   10            30                  0.04\n",
       "90      Cremonese   11            30                  0.02\n",
       "96  Hellas Verona    5            30                  0.00\n",
       "99          Genoa    3            30                  0.00\n",
       "95          Lecce    6            30                  0.00\n",
       "97     Fiorentina    4            30                  0.00\n",
       "94          Parma    7            30                  0.00\n",
       "98           Pisa    4            30                  0.00\n",
       "93       Cagliari    9            30                  0.00\n",
       "91         Torino   11            30                  0.00\n",
       "88        Udinese   12            30                  0.00"
      ]
     },
     "metadata": {},
     "output_type": "display_data"
    },
    {
     "name": "stdout",
     "output_type": "stream",
     "text": [
      "Kjørte 5000 simuleringer. Merk: dette er et forenklet estimat som antar gjennomsnittlig motstander for resterende kamper.\n"
     ]
    }
   ],
   "source": [
    "# Poisson-basert Monte Carlo-simulering for resterende kamper\n",
    "import numpy as np\n",
    "\n",
    "# Antall simuleringer\n",
    "n_sims = 5000\n",
    "\n",
    "# Velg kolonner som trengs\n",
    "teams = df_test['squad'].values\n",
    "remaining = df_test['kamper_igjen'].fillna(0).astype(int).values\n",
    "pts_current = df_test['pts'].fillna(0).values.astype(int)\n",
    "\n",
    "# Beregn mål-lambdas (mål per kamp) hvis data finnes, ellers estimer fra gd\n",
    "if set(['g', 'ga']).issubset(df_test.columns):\n",
    "    atk_lambda = (df_test['g'] / df_test['mp']).fillna(0.1).values\n",
    "    def_lambda = (df_test['ga'] / df_test['mp']).fillna(0.1).values\n",
    "else:\n",
    "    # Fallback: estimat basert på goal difference per kamp\n",
    "    league_avg_goals = 1.3  # antakelse per lag per kamp\n",
    "    proxy = (df_test['gd'] / df_test['mp']).fillna(0).values\n",
    "    atk_lambda = np.maximum(0.1, league_avg_goals + 0.5 * proxy)\n",
    "    def_lambda = np.maximum(0.1, league_avg_goals - 0.5 * proxy)\n",
    "\n",
    "# Integrer modellprediksjoner som en moderat styrkefaktor hvis tilgjengelig\n",
    "model_probs = None\n",
    "if 'model' in globals():\n",
    "    try:\n",
    "        model_probs = model.predict_proba(X_test.fillna(0))[:, 1]\n",
    "    except Exception:\n",
    "        model_probs = None\n",
    "elif 'calibrator' in globals():\n",
    "    try:\n",
    "        model_probs = calibrator.predict_proba(X_test.fillna(0))[:, 1]\n",
    "    except Exception:\n",
    "        model_probs = None\n",
    "\n",
    "if model_probs is not None:\n",
    "    mean_p = np.mean(model_probs)\n",
    "    # Lag en moderat multiplicative faktor (clip for å unngå ekstreme endringer)\n",
    "    strength_factor = 1 + 0.5 * (model_probs - mean_p)\n",
    "    strength_factor = np.clip(strength_factor, 0.5, 1.5)\n",
    "    atk_lambda_adj = atk_lambda * strength_factor\n",
    "else:\n",
    "    atk_lambda_adj = atk_lambda\n",
    "\n",
    "# Bruk gjennomsnittlig motstander-defense for match-simulering\n",
    "mean_defense = np.mean(def_lambda)\n",
    "\n",
    "# Run sims\n",
    "wins = np.zeros(len(teams), dtype=int)\n",
    "for sim in range(n_sims):\n",
    "    pts = pts_current.copy().astype(int)\n",
    "    # For hver lag, simuler resterende matcher mot en gjennomsnittlig motstander\n",
    "    for i in range(len(teams)):\n",
    "        k = int(remaining[i])\n",
    "        if k <= 0:\n",
    "            continue\n",
    "        atk = atk_lambda_adj[i]\n",
    "        for _ in range(k):\n",
    "            gf = np.random.poisson(atk)\n",
    "            ga = np.random.poisson(mean_defense)\n",
    "            if gf > ga:\n",
    "                pts[i] += 3\n",
    "            elif gf == ga:\n",
    "                pts[i] += 1\n",
    "            # else 0\n",
    "    # finn vinner(e)\n",
    "    max_pts = pts.max()\n",
    "    candidates = np.where(pts == max_pts)[0]\n",
    "    winner = np.random.choice(candidates)\n",
    "    wins[winner] += 1\n",
    "\n",
    "# Legg til sannsynlighet i df_test\n",
    "df_test['poisson_win_prob (%)'] = (wins / n_sims * 100).round(3)\n",
    "\n",
    "print('Topp kandidater etter Poisson-simulering:')\n",
    "display(df_test.sort_values('poisson_win_prob (%)', ascending=False)[['squad', 'pts', 'kamper_igjen', 'poisson_win_prob (%)']])\n",
    "\n",
    "print(f'Kjørte {n_sims} simuleringer. Merk: dette er et forenklet estimat som antar gjennomsnittlig motstander for resterende kamper.')"
   ]
  },
  {
   "cell_type": "code",
   "execution_count": 220,
   "id": "de5b2d6a",
   "metadata": {},
   "outputs": [
    {
     "name": "stdout",
     "output_type": "stream",
     "text": [
      "Viser topplag etter kombinert sannsynlighet (alpha=0.6):\n"
     ]
    },
    {
     "data": {
      "text/html": [
       "<div>\n",
       "<style scoped>\n",
       "    .dataframe tbody tr th:only-of-type {\n",
       "        vertical-align: middle;\n",
       "    }\n",
       "\n",
       "    .dataframe tbody tr th {\n",
       "        vertical-align: top;\n",
       "    }\n",
       "\n",
       "    .dataframe thead th {\n",
       "        text-align: right;\n",
       "    }\n",
       "</style>\n",
       "<table border=\"1\" class=\"dataframe\">\n",
       "  <thead>\n",
       "    <tr style=\"text-align: right;\">\n",
       "      <th></th>\n",
       "      <th>squad</th>\n",
       "      <th>pts</th>\n",
       "      <th>kamper_igjen</th>\n",
       "      <th>sjanse_vinner</th>\n",
       "      <th>poisson_win_prob (%)</th>\n",
       "      <th>combined_prob (%)</th>\n",
       "    </tr>\n",
       "  </thead>\n",
       "  <tbody>\n",
       "    <tr>\n",
       "      <th>80</th>\n",
       "      <td>Napoli</td>\n",
       "      <td>18</td>\n",
       "      <td>30</td>\n",
       "      <td>0.520</td>\n",
       "      <td>43.84</td>\n",
       "      <td>30.536</td>\n",
       "    </tr>\n",
       "    <tr>\n",
       "      <th>81</th>\n",
       "      <td>Roma</td>\n",
       "      <td>18</td>\n",
       "      <td>30</td>\n",
       "      <td>0.490</td>\n",
       "      <td>25.66</td>\n",
       "      <td>22.514</td>\n",
       "    </tr>\n",
       "    <tr>\n",
       "      <th>82</th>\n",
       "      <td>Milan</td>\n",
       "      <td>17</td>\n",
       "      <td>30</td>\n",
       "      <td>0.220</td>\n",
       "      <td>14.52</td>\n",
       "      <td>11.308</td>\n",
       "    </tr>\n",
       "    <tr>\n",
       "      <th>83</th>\n",
       "      <td>Inter</td>\n",
       "      <td>15</td>\n",
       "      <td>30</td>\n",
       "      <td>0.135</td>\n",
       "      <td>9.48</td>\n",
       "      <td>7.167</td>\n",
       "    </tr>\n",
       "    <tr>\n",
       "      <th>84</th>\n",
       "      <td>Bologna</td>\n",
       "      <td>14</td>\n",
       "      <td>30</td>\n",
       "      <td>0.075</td>\n",
       "      <td>3.34</td>\n",
       "      <td>3.211</td>\n",
       "    </tr>\n",
       "    <tr>\n",
       "      <th>86</th>\n",
       "      <td>Atalanta</td>\n",
       "      <td>12</td>\n",
       "      <td>30</td>\n",
       "      <td>0.080</td>\n",
       "      <td>1.50</td>\n",
       "      <td>2.600</td>\n",
       "    </tr>\n",
       "    <tr>\n",
       "      <th>85</th>\n",
       "      <td>Como</td>\n",
       "      <td>13</td>\n",
       "      <td>30</td>\n",
       "      <td>0.075</td>\n",
       "      <td>0.92</td>\n",
       "      <td>2.243</td>\n",
       "    </tr>\n",
       "    <tr>\n",
       "      <th>89</th>\n",
       "      <td>Lazio</td>\n",
       "      <td>11</td>\n",
       "      <td>30</td>\n",
       "      <td>0.080</td>\n",
       "      <td>0.54</td>\n",
       "      <td>2.216</td>\n",
       "    </tr>\n",
       "    <tr>\n",
       "      <th>87</th>\n",
       "      <td>Juventus</td>\n",
       "      <td>12</td>\n",
       "      <td>30</td>\n",
       "      <td>0.085</td>\n",
       "      <td>0.14</td>\n",
       "      <td>2.181</td>\n",
       "    </tr>\n",
       "    <tr>\n",
       "      <th>91</th>\n",
       "      <td>Torino</td>\n",
       "      <td>11</td>\n",
       "      <td>30</td>\n",
       "      <td>0.075</td>\n",
       "      <td>0.00</td>\n",
       "      <td>1.875</td>\n",
       "    </tr>\n",
       "    <tr>\n",
       "      <th>92</th>\n",
       "      <td>Sassuolo</td>\n",
       "      <td>10</td>\n",
       "      <td>30</td>\n",
       "      <td>0.070</td>\n",
       "      <td>0.04</td>\n",
       "      <td>1.766</td>\n",
       "    </tr>\n",
       "    <tr>\n",
       "      <th>90</th>\n",
       "      <td>Cremonese</td>\n",
       "      <td>11</td>\n",
       "      <td>30</td>\n",
       "      <td>0.065</td>\n",
       "      <td>0.02</td>\n",
       "      <td>1.633</td>\n",
       "    </tr>\n",
       "    <tr>\n",
       "      <th>96</th>\n",
       "      <td>Hellas Verona</td>\n",
       "      <td>5</td>\n",
       "      <td>30</td>\n",
       "      <td>0.065</td>\n",
       "      <td>0.00</td>\n",
       "      <td>1.625</td>\n",
       "    </tr>\n",
       "    <tr>\n",
       "      <th>94</th>\n",
       "      <td>Parma</td>\n",
       "      <td>7</td>\n",
       "      <td>30</td>\n",
       "      <td>0.065</td>\n",
       "      <td>0.00</td>\n",
       "      <td>1.625</td>\n",
       "    </tr>\n",
       "    <tr>\n",
       "      <th>93</th>\n",
       "      <td>Cagliari</td>\n",
       "      <td>9</td>\n",
       "      <td>30</td>\n",
       "      <td>0.065</td>\n",
       "      <td>0.00</td>\n",
       "      <td>1.625</td>\n",
       "    </tr>\n",
       "    <tr>\n",
       "      <th>88</th>\n",
       "      <td>Udinese</td>\n",
       "      <td>12</td>\n",
       "      <td>30</td>\n",
       "      <td>0.065</td>\n",
       "      <td>0.00</td>\n",
       "      <td>1.625</td>\n",
       "    </tr>\n",
       "    <tr>\n",
       "      <th>95</th>\n",
       "      <td>Lecce</td>\n",
       "      <td>6</td>\n",
       "      <td>30</td>\n",
       "      <td>0.055</td>\n",
       "      <td>0.00</td>\n",
       "      <td>1.375</td>\n",
       "    </tr>\n",
       "    <tr>\n",
       "      <th>97</th>\n",
       "      <td>Fiorentina</td>\n",
       "      <td>4</td>\n",
       "      <td>30</td>\n",
       "      <td>0.055</td>\n",
       "      <td>0.00</td>\n",
       "      <td>1.375</td>\n",
       "    </tr>\n",
       "    <tr>\n",
       "      <th>98</th>\n",
       "      <td>Pisa</td>\n",
       "      <td>4</td>\n",
       "      <td>30</td>\n",
       "      <td>0.055</td>\n",
       "      <td>0.00</td>\n",
       "      <td>1.375</td>\n",
       "    </tr>\n",
       "    <tr>\n",
       "      <th>99</th>\n",
       "      <td>Genoa</td>\n",
       "      <td>3</td>\n",
       "      <td>30</td>\n",
       "      <td>0.005</td>\n",
       "      <td>0.00</td>\n",
       "      <td>0.125</td>\n",
       "    </tr>\n",
       "  </tbody>\n",
       "</table>\n",
       "</div>"
      ],
      "text/plain": [
       "            squad  pts  kamper_igjen  sjanse_vinner  poisson_win_prob (%)  \\\n",
       "80         Napoli   18            30          0.520                 43.84   \n",
       "81           Roma   18            30          0.490                 25.66   \n",
       "82          Milan   17            30          0.220                 14.52   \n",
       "83          Inter   15            30          0.135                  9.48   \n",
       "84        Bologna   14            30          0.075                  3.34   \n",
       "86       Atalanta   12            30          0.080                  1.50   \n",
       "85           Como   13            30          0.075                  0.92   \n",
       "89          Lazio   11            30          0.080                  0.54   \n",
       "87       Juventus   12            30          0.085                  0.14   \n",
       "91         Torino   11            30          0.075                  0.00   \n",
       "92       Sassuolo   10            30          0.070                  0.04   \n",
       "90      Cremonese   11            30          0.065                  0.02   \n",
       "96  Hellas Verona    5            30          0.065                  0.00   \n",
       "94          Parma    7            30          0.065                  0.00   \n",
       "93       Cagliari    9            30          0.065                  0.00   \n",
       "88        Udinese   12            30          0.065                  0.00   \n",
       "95          Lecce    6            30          0.055                  0.00   \n",
       "97     Fiorentina    4            30          0.055                  0.00   \n",
       "98           Pisa    4            30          0.055                  0.00   \n",
       "99          Genoa    3            30          0.005                  0.00   \n",
       "\n",
       "    combined_prob (%)  \n",
       "80             30.536  \n",
       "81             22.514  \n",
       "82             11.308  \n",
       "83              7.167  \n",
       "84              3.211  \n",
       "86              2.600  \n",
       "85              2.243  \n",
       "89              2.216  \n",
       "87              2.181  \n",
       "91              1.875  \n",
       "92              1.766  \n",
       "90              1.633  \n",
       "96              1.625  \n",
       "94              1.625  \n",
       "93              1.625  \n",
       "88              1.625  \n",
       "95              1.375  \n",
       "97              1.375  \n",
       "98              1.375  \n",
       "99              0.125  "
      ]
     },
     "metadata": {},
     "output_type": "display_data"
    }
   ],
   "source": [
    "# Kombiner modellens sannsynligheter og Poisson-simulering\n",
    "# alpha = vekt for modellprediksjon (0.0 = bare Poisson, 1.0 = bare modell)\n",
    "alpha = 0.6\n",
    "\n",
    "# Sørg for at modelprediksjon finnes\n",
    "if 'sjanse_vinner' not in df_test.columns:\n",
    "    if 'sjanse_vinner_model' in df_test.columns:\n",
    "        df_test['sjanse_vinner'] = df_test['sjanse_vinner_model']\n",
    "    else:\n",
    "        try:\n",
    "            df_test['sjanse_vinner'] = model.predict_proba(X_test.fillna(0))[:, 1]\n",
    "        except Exception:\n",
    "            df_test['sjanse_vinner'] = 0\n",
    "\n",
    "# Konverter Poisson-prosent til sannsynlighet (0-1)\n",
    "df_test['poisson_prob'] = df_test.get('poisson_win_prob (%)', 0) / 100.0\n",
    "\n",
    "# Fyll NaN\n",
    "df_test['sjanse_vinner'] = df_test['sjanse_vinner'].fillna(0)\n",
    "df_test['poisson_prob'] = df_test['poisson_prob'].fillna(0)\n",
    "\n",
    "# Normaliser til sum=1 (hvis summen > 0)\n",
    "sum_model = df_test['sjanse_vinner'].sum()\n",
    "sum_poisson = df_test['poisson_prob'].sum()\n",
    "\n",
    "if sum_model > 0:\n",
    "    model_norm = df_test['sjanse_vinner'] / sum_model\n",
    "else:\n",
    "    model_norm = df_test['sjanse_vinner']\n",
    "\n",
    "if sum_poisson > 0:\n",
    "    poisson_norm = df_test['poisson_prob'] / sum_poisson\n",
    "else:\n",
    "    poisson_norm = df_test['poisson_prob']\n",
    "\n",
    "# Kombinert sannsynlighet\n",
    "df_test['combined_prob'] = alpha * model_norm + (1 - alpha) * poisson_norm\n",
    "\n",
    "df_test['combined_prob (%)'] = (df_test['combined_prob'] * 100).round(3)\n",
    "\n",
    "print(f'Viser topplag etter kombinert sannsynlighet (alpha={alpha}):')\n",
    "display(df_test.sort_values('combined_prob (%)', ascending=False)[['squad', 'pts', 'kamper_igjen', 'sjanse_vinner', 'poisson_win_prob (%)', 'combined_prob (%)']])\n"
   ]
  },
  {
   "cell_type": "code",
   "execution_count": 221,
   "id": "57ad0894",
   "metadata": {},
   "outputs": [
    {
     "name": "stdout",
     "output_type": "stream",
     "text": [
      "Skrevet 20 rader til sjanse_vinner_2025.json\n"
     ]
    }
   ],
   "source": [
    "# Eksporter kombinert sannsynlighet til JSON for nettsiden\n",
    "import json, os\n",
    "\n",
    "# Velg kolonner og gi riktig navn som nettsiden forventer\n",
    "out = df_test[['squad', 'combined_prob (%)']].copy()\n",
    "out = out.rename(columns={'combined_prob (%)': 'sjanse_vinner_pct'})\n",
    "# Sørg for numerisk verdi og rund av\n",
    "out['sjanse_vinner_pct'] = out['sjanse_vinner_pct'].round(3).astype(float)\n",
    "\n",
    "out_list = out.to_dict(orient='records')\n",
    "\n",
    "output_path = 'sjanse_vinner_2025.json'\n",
    "with open(output_path, 'w', encoding='utf-8') as f:\n",
    "    json.dump(out_list, f, ensure_ascii=False, indent=2)\n",
    "\n",
    "print(f'Skrevet {len(out_list)} rader til {output_path}')"
   ]
  },
  {
   "cell_type": "code",
   "execution_count": 222,
   "id": "5beff645",
   "metadata": {},
   "outputs": [
    {
     "name": "stdout",
     "output_type": "stream",
     "text": [
      "\n",
      " Seriemestersjanser 2025:\n"
     ]
    },
    {
     "data": {
      "text/html": [
       "<div>\n",
       "<style scoped>\n",
       "    .dataframe tbody tr th:only-of-type {\n",
       "        vertical-align: middle;\n",
       "    }\n",
       "\n",
       "    .dataframe tbody tr th {\n",
       "        vertical-align: top;\n",
       "    }\n",
       "\n",
       "    .dataframe thead th {\n",
       "        text-align: right;\n",
       "    }\n",
       "</style>\n",
       "<table border=\"1\" class=\"dataframe\">\n",
       "  <thead>\n",
       "    <tr style=\"text-align: right;\">\n",
       "      <th></th>\n",
       "      <th>squad</th>\n",
       "      <th>pts</th>\n",
       "      <th>forventet_pts</th>\n",
       "      <th>pts/mp</th>\n",
       "      <th>gd</th>\n",
       "      <th>kamper_igjen</th>\n",
       "      <th>sjanse_vinner (%)</th>\n",
       "    </tr>\n",
       "  </thead>\n",
       "  <tbody>\n",
       "    <tr>\n",
       "      <th>81</th>\n",
       "      <td>Roma</td>\n",
       "      <td>18</td>\n",
       "      <td>85.5</td>\n",
       "      <td>2.25</td>\n",
       "      <td>5</td>\n",
       "      <td>30</td>\n",
       "      <td>20.417</td>\n",
       "    </tr>\n",
       "    <tr>\n",
       "      <th>80</th>\n",
       "      <td>Napoli</td>\n",
       "      <td>18</td>\n",
       "      <td>85.5</td>\n",
       "      <td>2.25</td>\n",
       "      <td>7</td>\n",
       "      <td>30</td>\n",
       "      <td>21.667</td>\n",
       "    </tr>\n",
       "    <tr>\n",
       "      <th>82</th>\n",
       "      <td>Milan</td>\n",
       "      <td>17</td>\n",
       "      <td>80.9</td>\n",
       "      <td>2.13</td>\n",
       "      <td>7</td>\n",
       "      <td>30</td>\n",
       "      <td>9.167</td>\n",
       "    </tr>\n",
       "    <tr>\n",
       "      <th>83</th>\n",
       "      <td>Inter</td>\n",
       "      <td>15</td>\n",
       "      <td>71.4</td>\n",
       "      <td>1.88</td>\n",
       "      <td>8</td>\n",
       "      <td>30</td>\n",
       "      <td>5.625</td>\n",
       "    </tr>\n",
       "    <tr>\n",
       "      <th>84</th>\n",
       "      <td>Bologna</td>\n",
       "      <td>14</td>\n",
       "      <td>66.5</td>\n",
       "      <td>1.75</td>\n",
       "      <td>6</td>\n",
       "      <td>30</td>\n",
       "      <td>3.125</td>\n",
       "    </tr>\n",
       "    <tr>\n",
       "      <th>85</th>\n",
       "      <td>Como</td>\n",
       "      <td>13</td>\n",
       "      <td>61.9</td>\n",
       "      <td>1.63</td>\n",
       "      <td>4</td>\n",
       "      <td>30</td>\n",
       "      <td>3.125</td>\n",
       "    </tr>\n",
       "    <tr>\n",
       "      <th>86</th>\n",
       "      <td>Atalanta</td>\n",
       "      <td>12</td>\n",
       "      <td>57.0</td>\n",
       "      <td>1.50</td>\n",
       "      <td>6</td>\n",
       "      <td>30</td>\n",
       "      <td>3.333</td>\n",
       "    </tr>\n",
       "    <tr>\n",
       "      <th>87</th>\n",
       "      <td>Juventus</td>\n",
       "      <td>12</td>\n",
       "      <td>57.0</td>\n",
       "      <td>1.50</td>\n",
       "      <td>1</td>\n",
       "      <td>30</td>\n",
       "      <td>3.542</td>\n",
       "    </tr>\n",
       "    <tr>\n",
       "      <th>88</th>\n",
       "      <td>Udinese</td>\n",
       "      <td>12</td>\n",
       "      <td>57.0</td>\n",
       "      <td>1.50</td>\n",
       "      <td>-2</td>\n",
       "      <td>30</td>\n",
       "      <td>2.708</td>\n",
       "    </tr>\n",
       "    <tr>\n",
       "      <th>90</th>\n",
       "      <td>Cremonese</td>\n",
       "      <td>11</td>\n",
       "      <td>52.4</td>\n",
       "      <td>1.38</td>\n",
       "      <td>-1</td>\n",
       "      <td>30</td>\n",
       "      <td>2.708</td>\n",
       "    </tr>\n",
       "    <tr>\n",
       "      <th>91</th>\n",
       "      <td>Torino</td>\n",
       "      <td>11</td>\n",
       "      <td>52.4</td>\n",
       "      <td>1.38</td>\n",
       "      <td>-6</td>\n",
       "      <td>30</td>\n",
       "      <td>3.125</td>\n",
       "    </tr>\n",
       "    <tr>\n",
       "      <th>89</th>\n",
       "      <td>Lazio</td>\n",
       "      <td>11</td>\n",
       "      <td>52.4</td>\n",
       "      <td>1.38</td>\n",
       "      <td>4</td>\n",
       "      <td>30</td>\n",
       "      <td>3.333</td>\n",
       "    </tr>\n",
       "    <tr>\n",
       "      <th>92</th>\n",
       "      <td>Sassuolo</td>\n",
       "      <td>10</td>\n",
       "      <td>47.5</td>\n",
       "      <td>1.25</td>\n",
       "      <td>-1</td>\n",
       "      <td>30</td>\n",
       "      <td>2.917</td>\n",
       "    </tr>\n",
       "    <tr>\n",
       "      <th>93</th>\n",
       "      <td>Cagliari</td>\n",
       "      <td>9</td>\n",
       "      <td>42.9</td>\n",
       "      <td>1.13</td>\n",
       "      <td>-2</td>\n",
       "      <td>30</td>\n",
       "      <td>2.708</td>\n",
       "    </tr>\n",
       "    <tr>\n",
       "      <th>94</th>\n",
       "      <td>Parma</td>\n",
       "      <td>7</td>\n",
       "      <td>33.4</td>\n",
       "      <td>0.88</td>\n",
       "      <td>-4</td>\n",
       "      <td>30</td>\n",
       "      <td>2.708</td>\n",
       "    </tr>\n",
       "    <tr>\n",
       "      <th>95</th>\n",
       "      <td>Lecce</td>\n",
       "      <td>6</td>\n",
       "      <td>28.5</td>\n",
       "      <td>0.75</td>\n",
       "      <td>-6</td>\n",
       "      <td>30</td>\n",
       "      <td>2.292</td>\n",
       "    </tr>\n",
       "    <tr>\n",
       "      <th>96</th>\n",
       "      <td>Hellas Verona</td>\n",
       "      <td>5</td>\n",
       "      <td>23.9</td>\n",
       "      <td>0.63</td>\n",
       "      <td>-7</td>\n",
       "      <td>30</td>\n",
       "      <td>2.708</td>\n",
       "    </tr>\n",
       "    <tr>\n",
       "      <th>97</th>\n",
       "      <td>Fiorentina</td>\n",
       "      <td>4</td>\n",
       "      <td>19.0</td>\n",
       "      <td>0.50</td>\n",
       "      <td>-5</td>\n",
       "      <td>30</td>\n",
       "      <td>2.292</td>\n",
       "    </tr>\n",
       "    <tr>\n",
       "      <th>98</th>\n",
       "      <td>Pisa</td>\n",
       "      <td>4</td>\n",
       "      <td>19.0</td>\n",
       "      <td>0.50</td>\n",
       "      <td>-7</td>\n",
       "      <td>30</td>\n",
       "      <td>2.292</td>\n",
       "    </tr>\n",
       "    <tr>\n",
       "      <th>99</th>\n",
       "      <td>Genoa</td>\n",
       "      <td>3</td>\n",
       "      <td>14.4</td>\n",
       "      <td>0.38</td>\n",
       "      <td>-7</td>\n",
       "      <td>30</td>\n",
       "      <td>0.208</td>\n",
       "    </tr>\n",
       "  </tbody>\n",
       "</table>\n",
       "</div>"
      ],
      "text/plain": [
       "            squad  pts  forventet_pts  pts/mp  gd  kamper_igjen  \\\n",
       "81           Roma   18           85.5    2.25   5            30   \n",
       "80         Napoli   18           85.5    2.25   7            30   \n",
       "82          Milan   17           80.9    2.13   7            30   \n",
       "83          Inter   15           71.4    1.88   8            30   \n",
       "84        Bologna   14           66.5    1.75   6            30   \n",
       "85           Como   13           61.9    1.63   4            30   \n",
       "86       Atalanta   12           57.0    1.50   6            30   \n",
       "87       Juventus   12           57.0    1.50   1            30   \n",
       "88        Udinese   12           57.0    1.50  -2            30   \n",
       "90      Cremonese   11           52.4    1.38  -1            30   \n",
       "91         Torino   11           52.4    1.38  -6            30   \n",
       "89          Lazio   11           52.4    1.38   4            30   \n",
       "92       Sassuolo   10           47.5    1.25  -1            30   \n",
       "93       Cagliari    9           42.9    1.13  -2            30   \n",
       "94          Parma    7           33.4    0.88  -4            30   \n",
       "95          Lecce    6           28.5    0.75  -6            30   \n",
       "96  Hellas Verona    5           23.9    0.63  -7            30   \n",
       "97     Fiorentina    4           19.0    0.50  -5            30   \n",
       "98           Pisa    4           19.0    0.50  -7            30   \n",
       "99          Genoa    3           14.4    0.38  -7            30   \n",
       "\n",
       "    sjanse_vinner (%)  \n",
       "81             20.417  \n",
       "80             21.667  \n",
       "82              9.167  \n",
       "83              5.625  \n",
       "84              3.125  \n",
       "85              3.125  \n",
       "86              3.333  \n",
       "87              3.542  \n",
       "88              2.708  \n",
       "90              2.708  \n",
       "91              3.125  \n",
       "89              3.333  \n",
       "92              2.917  \n",
       "93              2.708  \n",
       "94              2.708  \n",
       "95              2.292  \n",
       "96              2.708  \n",
       "97              2.292  \n",
       "98              2.292  \n",
       "99              0.208  "
      ]
     },
     "execution_count": 222,
     "metadata": {},
     "output_type": "execute_result"
    }
   ],
   "source": [
    "df_test = df_test.sort_values(\"forventet_pts\", ascending=False)\n",
    "print(\"\\n Seriemestersjanser 2025:\")\n",
    "df_test[[\"squad\", \"pts\", \"forventet_pts\", \"pts/mp\", \"gd\", \"kamper_igjen\", \"sjanse_vinner (%)\"]]\n"
   ]
  },
  {
   "cell_type": "code",
   "execution_count": 223,
   "id": "a349fb28",
   "metadata": {},
   "outputs": [
    {
     "data": {
      "application/vnd.plotly.v1+json": {
       "config": {
        "plotlyServerURL": "https://plot.ly"
       },
       "data": [
        {
         "hovertemplate": "Lag=%{x}<br>Sjanse for å vinne (%)=%{y}<extra></extra>",
         "legendgroup": "",
         "marker": {
          "color": "blue",
          "pattern": {
           "shape": ""
          }
         },
         "name": "",
         "orientation": "v",
         "showlegend": false,
         "textposition": "auto",
         "type": "bar",
         "x": [
          "Napoli",
          "Roma",
          "Milan",
          "Inter",
          "Juventus",
          "Lazio",
          "Atalanta",
          "Torino",
          "Como",
          "Bologna",
          "Sassuolo",
          "Udinese",
          "Cremonese",
          "Cagliari",
          "Parma",
          "Hellas Verona",
          "Lecce",
          "Fiorentina",
          "Pisa",
          "Genoa"
         ],
         "xaxis": "x",
         "y": {
          "bdata": "mG4Sg8CqNUCYbhKDwGo0QC/dJAaBVSJAAAAAAACAFkC8dJMYBFYMQESLbOf7qQpARIts5/upCkAAAAAAAAAJQAAAAAAAAAlAAAAAAAAACUC8dJMYBFYHQESLbOf7qQVARIts5/upBUBEi2zn+6kFQESLbOf7qQVARIts5/upBUC8dJMYBFYCQLx0kxgEVgJAvHSTGARWAkA5tMh2vp/KPw==",
          "dtype": "f8"
         },
         "yaxis": "y"
        }
       ],
       "layout": {
        "bargap": 0.3,
        "barmode": "relative",
        "legend": {
         "tracegroupgap": 0
        },
        "template": {
         "data": {
          "bar": [
           {
            "error_x": {
             "color": "#2a3f5f"
            },
            "error_y": {
             "color": "#2a3f5f"
            },
            "marker": {
             "line": {
              "color": "white",
              "width": 0.5
             },
             "pattern": {
              "fillmode": "overlay",
              "size": 10,
              "solidity": 0.2
             }
            },
            "type": "bar"
           }
          ],
          "barpolar": [
           {
            "marker": {
             "line": {
              "color": "white",
              "width": 0.5
             },
             "pattern": {
              "fillmode": "overlay",
              "size": 10,
              "solidity": 0.2
             }
            },
            "type": "barpolar"
           }
          ],
          "carpet": [
           {
            "aaxis": {
             "endlinecolor": "#2a3f5f",
             "gridcolor": "#C8D4E3",
             "linecolor": "#C8D4E3",
             "minorgridcolor": "#C8D4E3",
             "startlinecolor": "#2a3f5f"
            },
            "baxis": {
             "endlinecolor": "#2a3f5f",
             "gridcolor": "#C8D4E3",
             "linecolor": "#C8D4E3",
             "minorgridcolor": "#C8D4E3",
             "startlinecolor": "#2a3f5f"
            },
            "type": "carpet"
           }
          ],
          "choropleth": [
           {
            "colorbar": {
             "outlinewidth": 0,
             "ticks": ""
            },
            "type": "choropleth"
           }
          ],
          "contour": [
           {
            "colorbar": {
             "outlinewidth": 0,
             "ticks": ""
            },
            "colorscale": [
             [
              0,
              "#0d0887"
             ],
             [
              0.1111111111111111,
              "#46039f"
             ],
             [
              0.2222222222222222,
              "#7201a8"
             ],
             [
              0.3333333333333333,
              "#9c179e"
             ],
             [
              0.4444444444444444,
              "#bd3786"
             ],
             [
              0.5555555555555556,
              "#d8576b"
             ],
             [
              0.6666666666666666,
              "#ed7953"
             ],
             [
              0.7777777777777778,
              "#fb9f3a"
             ],
             [
              0.8888888888888888,
              "#fdca26"
             ],
             [
              1,
              "#f0f921"
             ]
            ],
            "type": "contour"
           }
          ],
          "contourcarpet": [
           {
            "colorbar": {
             "outlinewidth": 0,
             "ticks": ""
            },
            "type": "contourcarpet"
           }
          ],
          "heatmap": [
           {
            "colorbar": {
             "outlinewidth": 0,
             "ticks": ""
            },
            "colorscale": [
             [
              0,
              "#0d0887"
             ],
             [
              0.1111111111111111,
              "#46039f"
             ],
             [
              0.2222222222222222,
              "#7201a8"
             ],
             [
              0.3333333333333333,
              "#9c179e"
             ],
             [
              0.4444444444444444,
              "#bd3786"
             ],
             [
              0.5555555555555556,
              "#d8576b"
             ],
             [
              0.6666666666666666,
              "#ed7953"
             ],
             [
              0.7777777777777778,
              "#fb9f3a"
             ],
             [
              0.8888888888888888,
              "#fdca26"
             ],
             [
              1,
              "#f0f921"
             ]
            ],
            "type": "heatmap"
           }
          ],
          "histogram": [
           {
            "marker": {
             "pattern": {
              "fillmode": "overlay",
              "size": 10,
              "solidity": 0.2
             }
            },
            "type": "histogram"
           }
          ],
          "histogram2d": [
           {
            "colorbar": {
             "outlinewidth": 0,
             "ticks": ""
            },
            "colorscale": [
             [
              0,
              "#0d0887"
             ],
             [
              0.1111111111111111,
              "#46039f"
             ],
             [
              0.2222222222222222,
              "#7201a8"
             ],
             [
              0.3333333333333333,
              "#9c179e"
             ],
             [
              0.4444444444444444,
              "#bd3786"
             ],
             [
              0.5555555555555556,
              "#d8576b"
             ],
             [
              0.6666666666666666,
              "#ed7953"
             ],
             [
              0.7777777777777778,
              "#fb9f3a"
             ],
             [
              0.8888888888888888,
              "#fdca26"
             ],
             [
              1,
              "#f0f921"
             ]
            ],
            "type": "histogram2d"
           }
          ],
          "histogram2dcontour": [
           {
            "colorbar": {
             "outlinewidth": 0,
             "ticks": ""
            },
            "colorscale": [
             [
              0,
              "#0d0887"
             ],
             [
              0.1111111111111111,
              "#46039f"
             ],
             [
              0.2222222222222222,
              "#7201a8"
             ],
             [
              0.3333333333333333,
              "#9c179e"
             ],
             [
              0.4444444444444444,
              "#bd3786"
             ],
             [
              0.5555555555555556,
              "#d8576b"
             ],
             [
              0.6666666666666666,
              "#ed7953"
             ],
             [
              0.7777777777777778,
              "#fb9f3a"
             ],
             [
              0.8888888888888888,
              "#fdca26"
             ],
             [
              1,
              "#f0f921"
             ]
            ],
            "type": "histogram2dcontour"
           }
          ],
          "mesh3d": [
           {
            "colorbar": {
             "outlinewidth": 0,
             "ticks": ""
            },
            "type": "mesh3d"
           }
          ],
          "parcoords": [
           {
            "line": {
             "colorbar": {
              "outlinewidth": 0,
              "ticks": ""
             }
            },
            "type": "parcoords"
           }
          ],
          "pie": [
           {
            "automargin": true,
            "type": "pie"
           }
          ],
          "scatter": [
           {
            "fillpattern": {
             "fillmode": "overlay",
             "size": 10,
             "solidity": 0.2
            },
            "type": "scatter"
           }
          ],
          "scatter3d": [
           {
            "line": {
             "colorbar": {
              "outlinewidth": 0,
              "ticks": ""
             }
            },
            "marker": {
             "colorbar": {
              "outlinewidth": 0,
              "ticks": ""
             }
            },
            "type": "scatter3d"
           }
          ],
          "scattercarpet": [
           {
            "marker": {
             "colorbar": {
              "outlinewidth": 0,
              "ticks": ""
             }
            },
            "type": "scattercarpet"
           }
          ],
          "scattergeo": [
           {
            "marker": {
             "colorbar": {
              "outlinewidth": 0,
              "ticks": ""
             }
            },
            "type": "scattergeo"
           }
          ],
          "scattergl": [
           {
            "marker": {
             "colorbar": {
              "outlinewidth": 0,
              "ticks": ""
             }
            },
            "type": "scattergl"
           }
          ],
          "scattermap": [
           {
            "marker": {
             "colorbar": {
              "outlinewidth": 0,
              "ticks": ""
             }
            },
            "type": "scattermap"
           }
          ],
          "scattermapbox": [
           {
            "marker": {
             "colorbar": {
              "outlinewidth": 0,
              "ticks": ""
             }
            },
            "type": "scattermapbox"
           }
          ],
          "scatterpolar": [
           {
            "marker": {
             "colorbar": {
              "outlinewidth": 0,
              "ticks": ""
             }
            },
            "type": "scatterpolar"
           }
          ],
          "scatterpolargl": [
           {
            "marker": {
             "colorbar": {
              "outlinewidth": 0,
              "ticks": ""
             }
            },
            "type": "scatterpolargl"
           }
          ],
          "scatterternary": [
           {
            "marker": {
             "colorbar": {
              "outlinewidth": 0,
              "ticks": ""
             }
            },
            "type": "scatterternary"
           }
          ],
          "surface": [
           {
            "colorbar": {
             "outlinewidth": 0,
             "ticks": ""
            },
            "colorscale": [
             [
              0,
              "#0d0887"
             ],
             [
              0.1111111111111111,
              "#46039f"
             ],
             [
              0.2222222222222222,
              "#7201a8"
             ],
             [
              0.3333333333333333,
              "#9c179e"
             ],
             [
              0.4444444444444444,
              "#bd3786"
             ],
             [
              0.5555555555555556,
              "#d8576b"
             ],
             [
              0.6666666666666666,
              "#ed7953"
             ],
             [
              0.7777777777777778,
              "#fb9f3a"
             ],
             [
              0.8888888888888888,
              "#fdca26"
             ],
             [
              1,
              "#f0f921"
             ]
            ],
            "type": "surface"
           }
          ],
          "table": [
           {
            "cells": {
             "fill": {
              "color": "#EBF0F8"
             },
             "line": {
              "color": "white"
             }
            },
            "header": {
             "fill": {
              "color": "#C8D4E3"
             },
             "line": {
              "color": "white"
             }
            },
            "type": "table"
           }
          ]
         },
         "layout": {
          "annotationdefaults": {
           "arrowcolor": "#2a3f5f",
           "arrowhead": 0,
           "arrowwidth": 1
          },
          "autotypenumbers": "strict",
          "coloraxis": {
           "colorbar": {
            "outlinewidth": 0,
            "ticks": ""
           }
          },
          "colorscale": {
           "diverging": [
            [
             0,
             "#8e0152"
            ],
            [
             0.1,
             "#c51b7d"
            ],
            [
             0.2,
             "#de77ae"
            ],
            [
             0.3,
             "#f1b6da"
            ],
            [
             0.4,
             "#fde0ef"
            ],
            [
             0.5,
             "#f7f7f7"
            ],
            [
             0.6,
             "#e6f5d0"
            ],
            [
             0.7,
             "#b8e186"
            ],
            [
             0.8,
             "#7fbc41"
            ],
            [
             0.9,
             "#4d9221"
            ],
            [
             1,
             "#276419"
            ]
           ],
           "sequential": [
            [
             0,
             "#0d0887"
            ],
            [
             0.1111111111111111,
             "#46039f"
            ],
            [
             0.2222222222222222,
             "#7201a8"
            ],
            [
             0.3333333333333333,
             "#9c179e"
            ],
            [
             0.4444444444444444,
             "#bd3786"
            ],
            [
             0.5555555555555556,
             "#d8576b"
            ],
            [
             0.6666666666666666,
             "#ed7953"
            ],
            [
             0.7777777777777778,
             "#fb9f3a"
            ],
            [
             0.8888888888888888,
             "#fdca26"
            ],
            [
             1,
             "#f0f921"
            ]
           ],
           "sequentialminus": [
            [
             0,
             "#0d0887"
            ],
            [
             0.1111111111111111,
             "#46039f"
            ],
            [
             0.2222222222222222,
             "#7201a8"
            ],
            [
             0.3333333333333333,
             "#9c179e"
            ],
            [
             0.4444444444444444,
             "#bd3786"
            ],
            [
             0.5555555555555556,
             "#d8576b"
            ],
            [
             0.6666666666666666,
             "#ed7953"
            ],
            [
             0.7777777777777778,
             "#fb9f3a"
            ],
            [
             0.8888888888888888,
             "#fdca26"
            ],
            [
             1,
             "#f0f921"
            ]
           ]
          },
          "colorway": [
           "#636efa",
           "#EF553B",
           "#00cc96",
           "#ab63fa",
           "#FFA15A",
           "#19d3f3",
           "#FF6692",
           "#B6E880",
           "#FF97FF",
           "#FECB52"
          ],
          "font": {
           "color": "#2a3f5f"
          },
          "geo": {
           "bgcolor": "white",
           "lakecolor": "white",
           "landcolor": "white",
           "showlakes": true,
           "showland": true,
           "subunitcolor": "#C8D4E3"
          },
          "hoverlabel": {
           "align": "left"
          },
          "hovermode": "closest",
          "mapbox": {
           "style": "light"
          },
          "paper_bgcolor": "white",
          "plot_bgcolor": "white",
          "polar": {
           "angularaxis": {
            "gridcolor": "#EBF0F8",
            "linecolor": "#EBF0F8",
            "ticks": ""
           },
           "bgcolor": "white",
           "radialaxis": {
            "gridcolor": "#EBF0F8",
            "linecolor": "#EBF0F8",
            "ticks": ""
           }
          },
          "scene": {
           "xaxis": {
            "backgroundcolor": "white",
            "gridcolor": "#DFE8F3",
            "gridwidth": 2,
            "linecolor": "#EBF0F8",
            "showbackground": true,
            "ticks": "",
            "zerolinecolor": "#EBF0F8"
           },
           "yaxis": {
            "backgroundcolor": "white",
            "gridcolor": "#DFE8F3",
            "gridwidth": 2,
            "linecolor": "#EBF0F8",
            "showbackground": true,
            "ticks": "",
            "zerolinecolor": "#EBF0F8"
           },
           "zaxis": {
            "backgroundcolor": "white",
            "gridcolor": "#DFE8F3",
            "gridwidth": 2,
            "linecolor": "#EBF0F8",
            "showbackground": true,
            "ticks": "",
            "zerolinecolor": "#EBF0F8"
           }
          },
          "shapedefaults": {
           "line": {
            "color": "#2a3f5f"
           }
          },
          "ternary": {
           "aaxis": {
            "gridcolor": "#DFE8F3",
            "linecolor": "#A2B1C6",
            "ticks": ""
           },
           "baxis": {
            "gridcolor": "#DFE8F3",
            "linecolor": "#A2B1C6",
            "ticks": ""
           },
           "bgcolor": "white",
           "caxis": {
            "gridcolor": "#DFE8F3",
            "linecolor": "#A2B1C6",
            "ticks": ""
           }
          },
          "title": {
           "x": 0.05
          },
          "xaxis": {
           "automargin": true,
           "gridcolor": "#EBF0F8",
           "linecolor": "#EBF0F8",
           "ticks": "",
           "title": {
            "standoff": 15
           },
           "zerolinecolor": "#EBF0F8",
           "zerolinewidth": 2
          },
          "yaxis": {
           "automargin": true,
           "gridcolor": "#EBF0F8",
           "linecolor": "#EBF0F8",
           "ticks": "",
           "title": {
            "standoff": 15
           },
           "zerolinecolor": "#EBF0F8",
           "zerolinewidth": 2
          }
         }
        },
        "title": {
         "text": "Sjanse for å vinne Serie A 2025 etter modellens prediksjon",
         "x": 0.5
        },
        "xaxis": {
         "anchor": "y",
         "domain": [
          0,
          1
         ],
         "tickangle": -45,
         "title": {
          "text": "Lag"
         }
        },
        "yaxis": {
         "anchor": "x",
         "domain": [
          0,
          1
         ],
         "title": {
          "text": "Sjanse for å vinne (%)"
         }
        }
       }
      }
     },
     "metadata": {},
     "output_type": "display_data"
    }
   ],
   "source": [
    "import plotly.express as px\n",
    "\n",
    "df_test_sortert = df_test.sort_values(\"sjanse_vinner (%)\", ascending=False) \n",
    "figur = px.bar(\n",
    "    df_test_sortert, \n",
    "    x=\"squad\", \n",
    "    y=\"sjanse_vinner (%)\", \n",
    "    color_discrete_sequence=[\"blue\"],\n",
    "    title=\"Sjanse for å vinne Serie A 2025 etter modellens prediksjon\",\n",
    "    labels={\"squad\": \"Lag\", \"sjanse_vinner (%)\": \"Sjanse for å vinne (%)\"},\n",
    "    template=\"plotly_white\"\n",
    ")\n",
    "\n",
    "figur.update_layout(\n",
    "    xaxis_title=\"Lag\",\n",
    "    yaxis_title=\"Sjanse for å vinne (%)\",\n",
    "    xaxis_tickangle=-45,\n",
    "    bargap=0.3,\n",
    "    title_x=0.5\n",
    "    )\n",
    "figur.show()\n"
   ]
  }
 ],
 "metadata": {
  "kernelspec": {
   "display_name": "Python 3",
   "language": "python",
   "name": "python3"
  },
  "language_info": {
   "codemirror_mode": {
    "name": "ipython",
    "version": 3
   },
   "file_extension": ".py",
   "mimetype": "text/x-python",
   "name": "python",
   "nbconvert_exporter": "python",
   "pygments_lexer": "ipython3",
   "version": "3.9.6"
  }
 },
 "nbformat": 4,
 "nbformat_minor": 5
}
