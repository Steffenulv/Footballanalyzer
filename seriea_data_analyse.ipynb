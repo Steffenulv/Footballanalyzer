{
 "cells": [
  {
   "cell_type": "markdown",
   "id": "6685f9fa",
   "metadata": {},
   "source": [
    "Endten finne ut hvilke lag som kommer til å vinne de ulike kampene, eller bare finne ut hvem som vinner ligaen og hvor alle ender opp\n"
   ]
  },
  {
   "cell_type": "code",
   "execution_count": null,
   "id": "b313d1ac",
   "metadata": {},
   "outputs": [
    {
     "ename": "",
     "evalue": "",
     "output_type": "error",
     "traceback": [
      "\u001b[1;31mFailed to start the Kernel. \n",
      "\u001b[1;31mPermissionError: [WinError 5] Ingen tilgang: 'C:\\\\Users\\\\steff\\\\.ipython'. \n",
      "\u001b[1;31mView Jupyter <a href='command:jupyter.viewOutput'>log</a> for further details."
     ]
    }
   ],
   "source": [
    "import pandas as pd\n",
    "\n",
    "url = \"https://raw.githubusercontent.com/Steffenulv/Footballanalyzer/refs/heads/main/serie_a_full_data.csv\"\n",
    "full_data = pd.read_csv(url)\n",
    "\n",
    "print(full_data.shape)\n",
    "full_data.head()"
   ]
  }
 ],
 "metadata": {
  "kernelspec": {
   "display_name": "Python 3",
   "language": "python",
   "name": "python3"
  },
  "language_info": {
   "codemirror_mode": {
    "name": "ipython",
    "version": 3
   },
   "file_extension": ".py",
   "mimetype": "text/x-python",
   "name": "python",
   "nbconvert_exporter": "python",
   "pygments_lexer": "ipython3",
   "version": "3.13.2"
  }
 },
 "nbformat": 4,
 "nbformat_minor": 5
}
